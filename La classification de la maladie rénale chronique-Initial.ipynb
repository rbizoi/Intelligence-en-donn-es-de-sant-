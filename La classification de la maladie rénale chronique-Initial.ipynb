{
 "cells": [
  {
   "cell_type": "markdown",
   "metadata": {
    "toc": true
   },
   "source": [
    "<h1>Table of Contents<span class=\"tocSkip\"></span></h1>\n",
    "<div class=\"toc\"><ul class=\"toc-item\"><li><span><a href=\"#Librairies-du-projet\" data-toc-modified-id=\"Librairies-du-projet-1\"><span class=\"toc-item-num\">1&nbsp;&nbsp;</span>Librairies du projet</a></span></li><li><span><a href=\"#Lecture-de-l'échantillon-initial\" data-toc-modified-id=\"Lecture-de-l'échantillon-initial-2\"><span class=\"toc-item-num\">2&nbsp;&nbsp;</span>Lecture de l'échantillon initial</a></span></li><li><span><a href=\"#Les-valeurs-manquantes\" data-toc-modified-id=\"Les-valeurs-manquantes-3\"><span class=\"toc-item-num\">3&nbsp;&nbsp;</span>Les valeurs manquantes</a></span></li><li><span><a href=\"#Separation-des-données-pour-l'apprentissage\" data-toc-modified-id=\"Separation-des-données-pour-l'apprentissage-4\"><span class=\"toc-item-num\">4&nbsp;&nbsp;</span>Separation des données pour l'apprentissage</a></span></li><li><span><a href=\"#Déclaration-des-classifieurs\" data-toc-modified-id=\"Déclaration-des-classifieurs-5\"><span class=\"toc-item-num\">5&nbsp;&nbsp;</span>Déclaration des classifieurs</a></span></li><li><span><a href=\"#Choix-des-classifieurs\" data-toc-modified-id=\"Choix-des-classifieurs-6\"><span class=\"toc-item-num\">6&nbsp;&nbsp;</span>Choix des classifieurs</a></span><ul class=\"toc-item\"><li><span><a href=\"#Résultats-d'une-première-exécution\" data-toc-modified-id=\"Résultats-d'une-première-exécution-6.1\"><span class=\"toc-item-num\">6.1&nbsp;&nbsp;</span>Résultats d'une première exécution</a></span></li><li><span><a href=\"#Etude-de-la-classification-avec-les-arbres-de-décision\" data-toc-modified-id=\"Etude-de-la-classification-avec-les-arbres-de-décision-6.2\"><span class=\"toc-item-num\">6.2&nbsp;&nbsp;</span>Etude de la classification avec les arbres de décision</a></span></li></ul></li><li><span><a href=\"#Traitement-centrage-et-réduction\" data-toc-modified-id=\"Traitement-centrage-et-réduction-7\"><span class=\"toc-item-num\">7&nbsp;&nbsp;</span>Traitement centrage et réduction</a></span></li><li><span><a href=\"#Transformation-des-modalités-des-variables-qualitatives-en-colonnes\" data-toc-modified-id=\"Transformation-des-modalités-des-variables-qualitatives-en-colonnes-8\"><span class=\"toc-item-num\">8&nbsp;&nbsp;</span>Transformation des modalités des variables qualitatives en colonnes</a></span></li></ul></div>"
   ]
  },
  {
   "cell_type": "code",
   "execution_count": 1,
   "metadata": {
    "ExecuteTime": {
     "end_time": "2023-03-08T12:24:06.392752Z",
     "start_time": "2023-03-08T12:23:38.497565Z"
    }
   },
   "outputs": [],
   "source": [
    "import pandas as pd  \n",
    "import seaborn as sns  \n",
    "import os, warnings\n",
    "from matplotlib import pyplot as plt\n",
    "\n",
    "# %pylab inline\n",
    "%matplotlib inline\n",
    "if int(str(sns.__version__).split('.')[1]) > 8 : \n",
    "    plt.style.use('seaborn-v0_8-darkgrid')\n",
    "else:\n",
    "    plt.style.use('seaborn-darkgrid')\n",
    "    \n",
    "sns.set(font_scale=2)\n",
    "warnings.filterwarnings(action=\"ignore\")\n",
    "seed = 123456789"
   ]
  },
  {
   "cell_type": "markdown",
   "metadata": {},
   "source": [
    "# Librairies du projet"
   ]
  },
  {
   "cell_type": "code",
   "execution_count": 2,
   "metadata": {
    "ExecuteTime": {
     "end_time": "2023-03-08T12:24:11.628628Z",
     "start_time": "2023-03-08T12:24:06.398679Z"
    }
   },
   "outputs": [],
   "source": [
    "from matplotlib.colors import ListedColormap\n",
    "from sklearn.model_selection import train_test_split\n",
    "from sklearn.preprocessing import StandardScaler\n",
    "from sklearn.discriminant_analysis import QuadraticDiscriminantAnalysis\n",
    "\n",
    "from sklearn.neural_network import MLPClassifier\n",
    "from sklearn.neighbors import KNeighborsClassifier\n",
    "from sklearn.linear_model import LogisticRegression, SGDClassifier\n",
    "from sklearn.svm import NuSVC, SVC, OneClassSVM\n",
    "from sklearn.gaussian_process import GaussianProcessClassifier\n",
    "from sklearn.gaussian_process.kernels import ConstantKernel, RBF, RationalQuadratic, ExpSineSquared, DotProduct, Matern, WhiteKernel\n",
    "\n",
    "from sklearn.tree import DecisionTreeClassifier, export_graphviz, plot_tree\n",
    "from sklearn.ensemble import RandomForestClassifier, AdaBoostClassifier, GradientBoostingClassifier\n",
    "from sklearn.naive_bayes import GaussianNB, ComplementNB\n",
    "from sklearn.metrics import roc_curve, auc\n",
    "\n",
    "from sklearn.metrics  import make_scorer, confusion_matrix, roc_curve, auc, accuracy_score, log_loss, hamming_loss, \\\n",
    "                             precision_score, recall_score, f1_score, jaccard_score,  \\\n",
    "                             precision_recall_curve, average_precision_score\n",
    "from sklearn.preprocessing import LabelEncoder"
   ]
  },
  {
   "cell_type": "code",
   "execution_count": 3,
   "metadata": {
    "ExecuteTime": {
     "end_time": "2023-03-08T12:24:12.786186Z",
     "start_time": "2023-03-08T12:24:11.636602Z"
    }
   },
   "outputs": [
    {
     "data": {
      "image/png": "[encoded data removed]",
      "text/plain": [
       "<Figure size 7800x100 with 1 Axes>"
      ]
     },
     "metadata": {},
     "output_type": "display_data"
    }
   ],
   "source": [
    "palette = [ \"#030aa7\", \"#e50000\", \"#d8863b\", \"#005f6a\", \"#6b7c85\", \"#751973\",\n",
    "            \"#f5054f\", \n",
    "            \"#030aa7\", \"#e50000\", \"#d8863b\", \"#005f6a\", \"#6b7c85\", \"#751973\", \"#d1e5f0\", \"#fddbc7\",\n",
    "            \"#ffffcb\", \"#12e193\", \"#d8dcd6\", \"#ffdaf0\", \"#dfc5fe\", \"#f5054f\", \"#a0450e\",\n",
    "            \"#0339f8\", \"#f4320c\", \"#fec615\", \"#017a79\", \"#85a3b2\", \"#fe2f4a\", \"#a00498\", \"#b04e0f\",\n",
    "            \"#0165fc\", \"#ff724c\", \"#fddc5c\", \"#11875d\", \"#89a0b0\", \"#fe828c\", \"#cb00f5\", \"#b75203\",\n",
    "            \"#0485d1\", \"#ff7855\", \"#fbeeac\", \"#0cb577\", \"#95a3a6\", \"#ffb7ce\", \"#c071fe\", \"#ca6b02\",\n",
    "            \"#92c5de\", \"#f4a582\", \"#fef69e\", \"#18d17b\", \"#c5c9c7\", \"#ffcfdc\", \"#caa0ff\", \"#cb7723\",\n",
    "            \"#d1e5f0\", \"#fddbc7\", \"#ffffcb\", \"#12e193\", \"#d8dcd6\", \"#ffdaf0\", \"#dfc5fe\", \"#d8863b\",\n",
    "            \"#030764\", \"#be0119\", \"#dbb40c\", \"#005249\", \"#3c4142\", \"#cb0162\", \"#5d1451\", \"#653700\",\n",
    "            \"#040348\", \"#67001f\", \"#b27a01\", \"#002d04\", \"#000000\", \"#a0025c\", \"#490648\", \"#3c0008\"\n",
    "          ]\n",
    "sns.palplot(sns.color_palette(palette))"
   ]
  },
  {
   "cell_type": "code",
   "execution_count": 4,
   "metadata": {
    "ExecuteTime": {
     "end_time": "2023-03-08T12:24:12.834057Z",
     "start_time": "2023-03-08T12:24:12.789152Z"
    }
   },
   "outputs": [],
   "source": [
    "from datetime import datetime as dt\n",
    "\n",
    "repertoireRacine  = '.'\n",
    "nomProjet         = 'Classification de la maladie rénale chronique'\n",
    "\n",
    "repertoireProjet  = os.path.join(repertoireRacine, nomProjet)\n",
    "repertoireDonnees = os.path.join(repertoireProjet, 'repertoire.donnees')\n",
    "repertoireImages  = os.path.join(repertoireProjet, 'repertoire.images')\n",
    "\n",
    "\n",
    "def controleExistenceRepertoire( repertoire, create_if_needed=True):\n",
    "    \"\"\"Voir si le répertoire existe. S'il n'existe pas il est créé.\"\"\"\n",
    "    path_exists = os.path.exists(repertoire)\n",
    "    if path_exists:\n",
    "        if not os.path.isdir(repertoire):\n",
    "            raise Exception(\"Trouvé le nom  \"+repertoire +\" mais c'est un fichier, pas un répertoire\")\n",
    "            # return False\n",
    "        return True\n",
    "    if create_if_needed:\n",
    "        os.makedirs(repertoire)\n",
    "\n",
    "def sauvegarderImage( fichier):\n",
    "    \"\"\"Enregistrez la figure. Appelez la méthode juste avant plt.show ().\"\"\"\n",
    "    controleExistenceRepertoire(repertoireImages)\n",
    "    plt.savefig(os.path.join(repertoireImages,\n",
    "                             fichier+f\"--{dt.now().strftime('%Y_%m_%d_%H.%M.%S')}.png\"), \n",
    "                             dpi=600, \n",
    "                             bbox_inches='tight')\n",
    "\n",
    "def sauvegarderImageSNS( sns_plot, fichier):\n",
    "    \"\"\"Enregistrez la figure. Appelez la méthode juste avant plt.show ().\"\"\"\n",
    "    controleExistenceRepertoire(repertoireImages)\n",
    "    fig = sns_plot.get_figure()\n",
    "    fig.savefig(os.path.join(repertoireImages,fichier+'.png'))\n",
    "    \n",
    "controleExistenceRepertoire(repertoireProjet);\n",
    "controleExistenceRepertoire(repertoireDonnees);\n",
    "controleExistenceRepertoire(repertoireImages);\n",
    "\n",
    "def afficheDistribution(colonne, cible):\n",
    "        plt.figure(figsize=(14,12))\n",
    "        sns.distplot(colonne[\n",
    "                           cible == 1],\n",
    "                       color=\"steelblue\")\n",
    "        sns.distplot(colonne[\n",
    "                           cible == 0],\n",
    "                       color=\"red\")\n",
    "        axline((colonne.median(), 0), (colonne.median(), 1), linewidth=1, color='r', linestyle='--')\n",
    "        sauvegarderImage(\"La distribution des colonnes\")    \n",
    "        plt.show()\n",
    "        \n",
    "def createColumnsQualitatives(donnees,col):\n",
    "    valeurs = donnees[col].sort_values().unique()\n",
    "    for i in valeurs : \n",
    "        nom = col+'_'+str(i)\n",
    "        donnees[nom] = donnees[col].apply(lambda x : 1 if x==i else 0)\n",
    "    donnees.drop(labels=col, axis=1, inplace=True)        "
   ]
  },
  {
   "cell_type": "markdown",
   "metadata": {},
   "source": [
    "# Lecture de l'échantillon initial\n",
    "\n",
    "\n",
    "<img src=\"https://raw.githubusercontent.com/rbizoi/IntelligenceEnDonneesDeSante/main/images/EchantillonInitial.png\" width=\"800\">"
   ]
  },
  {
   "cell_type": "markdown",
   "metadata": {},
   "source": [
    ">> **Vous trouvez les données et leur description :**<br>\n",
    ">> https://archive.ics.uci.edu/ml/datasets/chronic_kidney_disease<br>\n",
    ">> https://www.kaggle.com/datasets/abhia1999/chronic-kidney-disease<br>\n",
    "\n",
    "\n",
    ">> **age** - age                    <br>\n",
    ">> **bp** - blood pressure          <br>\n",
    ">> **sg** - specific gravity        <br>\n",
    ">> **al** - albumin                 <br>\n",
    ">> **su** - sugar                   <br>\n",
    ">> **rbc** - red blood cells        <br>\n",
    ">> **pc** - pus cell                <br>\n",
    ">> **pcc** - pus cell clumps        <br>\n",
    ">> **ba** - bacteria                <br>\n",
    ">> **bgr** - blood glucose random   <br>\n",
    ">> **bu** - blood urea              <br>\n",
    ">> **sc** - serum creatinine        <br>\n",
    ">> **sod** - sodium                 <br>\n",
    ">> **pot** - potassium              <br>\n",
    ">> **hemo** - hemoglobin            <br>\n",
    ">> **pcv** - packed cell volume     <br>\n",
    ">> **wc** - white blood cell count  <br>\n",
    ">> **rc** - red blood cell count    <br>\n",
    ">> **htn** - hypertension           <br>\n",
    ">> **dm** - diabetes mellitus       <br>\n",
    ">> **cad** - coronary artery disease<br>\n",
    ">> **appet** - appetite             <br>\n",
    ">> **pe** - pedal edema             <br>\n",
    ">> **ane** - anemia                 <br>\n",
    ">> **class** - class                <br>"
   ]
  },
  {
   "cell_type": "code",
   "execution_count": 5,
   "metadata": {
    "ExecuteTime": {
     "end_time": "2023-03-08T12:24:12.990387Z",
     "start_time": "2023-03-08T12:24:12.837074Z"
    }
   },
   "outputs": [
    {
     "data": {
      "text/html": [
       "<div>\n",
       "<style scoped>\n",
       "    .dataframe tbody tr th:only-of-type {\n",
       "        vertical-align: middle;\n",
       "    }\n",
       "\n",
       "    .dataframe tbody tr th {\n",
       "        vertical-align: top;\n",
       "    }\n",
       "\n",
       "    .dataframe thead th {\n",
       "        text-align: right;\n",
       "    }\n",
       "</style>\n",
       "<table border=\"1\" class=\"dataframe\">\n",
       "  <thead>\n",
       "    <tr style=\"text-align: right;\">\n",
       "      <th></th>\n",
       "      <th>Bp</th>\n",
       "      <th>Sg</th>\n",
       "      <th>Al</th>\n",
       "      <th>Su</th>\n",
       "      <th>Rbc</th>\n",
       "      <th>Bu</th>\n",
       "      <th>Sc</th>\n",
       "      <th>Sod</th>\n",
       "      <th>Pot</th>\n",
       "      <th>Hemo</th>\n",
       "      <th>Wbcc</th>\n",
       "      <th>Rbcc</th>\n",
       "      <th>Htn</th>\n",
       "      <th>Class</th>\n",
       "    </tr>\n",
       "  </thead>\n",
       "  <tbody>\n",
       "    <tr>\n",
       "      <th>0</th>\n",
       "      <td>80.0</td>\n",
       "      <td>1.020</td>\n",
       "      <td>1</td>\n",
       "      <td>0</td>\n",
       "      <td>1</td>\n",
       "      <td>36.0</td>\n",
       "      <td>1.2</td>\n",
       "      <td>137.53</td>\n",
       "      <td>4.63</td>\n",
       "      <td>15.4</td>\n",
       "      <td>7800.0</td>\n",
       "      <td>5.20</td>\n",
       "      <td>1</td>\n",
       "      <td>1</td>\n",
       "    </tr>\n",
       "    <tr>\n",
       "      <th>1</th>\n",
       "      <td>50.0</td>\n",
       "      <td>1.020</td>\n",
       "      <td>4</td>\n",
       "      <td>0</td>\n",
       "      <td>1</td>\n",
       "      <td>18.0</td>\n",
       "      <td>0.8</td>\n",
       "      <td>137.53</td>\n",
       "      <td>4.63</td>\n",
       "      <td>11.3</td>\n",
       "      <td>6000.0</td>\n",
       "      <td>4.71</td>\n",
       "      <td>0</td>\n",
       "      <td>1</td>\n",
       "    </tr>\n",
       "    <tr>\n",
       "      <th>2</th>\n",
       "      <td>80.0</td>\n",
       "      <td>1.010</td>\n",
       "      <td>2</td>\n",
       "      <td>3</td>\n",
       "      <td>1</td>\n",
       "      <td>53.0</td>\n",
       "      <td>1.8</td>\n",
       "      <td>137.53</td>\n",
       "      <td>4.63</td>\n",
       "      <td>9.6</td>\n",
       "      <td>7500.0</td>\n",
       "      <td>4.71</td>\n",
       "      <td>0</td>\n",
       "      <td>1</td>\n",
       "    </tr>\n",
       "    <tr>\n",
       "      <th>3</th>\n",
       "      <td>70.0</td>\n",
       "      <td>1.005</td>\n",
       "      <td>4</td>\n",
       "      <td>0</td>\n",
       "      <td>1</td>\n",
       "      <td>56.0</td>\n",
       "      <td>3.8</td>\n",
       "      <td>111.00</td>\n",
       "      <td>2.50</td>\n",
       "      <td>11.2</td>\n",
       "      <td>6700.0</td>\n",
       "      <td>3.90</td>\n",
       "      <td>1</td>\n",
       "      <td>1</td>\n",
       "    </tr>\n",
       "    <tr>\n",
       "      <th>4</th>\n",
       "      <td>80.0</td>\n",
       "      <td>1.010</td>\n",
       "      <td>2</td>\n",
       "      <td>0</td>\n",
       "      <td>1</td>\n",
       "      <td>26.0</td>\n",
       "      <td>1.4</td>\n",
       "      <td>137.53</td>\n",
       "      <td>4.63</td>\n",
       "      <td>11.6</td>\n",
       "      <td>7300.0</td>\n",
       "      <td>4.60</td>\n",
       "      <td>0</td>\n",
       "      <td>1</td>\n",
       "    </tr>\n",
       "  </tbody>\n",
       "</table>\n",
       "</div>"
      ],
      "text/plain": [
       "     Bp     Sg  Al  Su  Rbc    Bu   Sc     Sod   Pot  Hemo    Wbcc  Rbcc  Htn  \\\n",
       "0  80.0  1.020   1   0    1  36.0  1.2  137.53  4.63  15.4  7800.0  5.20    1   \n",
       "1  50.0  1.020   4   0    1  18.0  0.8  137.53  4.63  11.3  6000.0  4.71    0   \n",
       "2  80.0  1.010   2   3    1  53.0  1.8  137.53  4.63   9.6  7500.0  4.71    0   \n",
       "3  70.0  1.005   4   0    1  56.0  3.8  111.00  2.50  11.2  6700.0  3.90    1   \n",
       "4  80.0  1.010   2   0    1  26.0  1.4  137.53  4.63  11.6  7300.0  4.60    0   \n",
       "\n",
       "   Class  \n",
       "0      1  \n",
       "1      1  \n",
       "2      1  \n",
       "3      1  \n",
       "4      1  "
      ]
     },
     "execution_count": 5,
     "metadata": {},
     "output_type": "execute_result"
    }
   ],
   "source": [
    "donnees = pd.read_csv(\"donnees/Chronic kidney disease/new_model.csv\")\n",
    "variablesQualitatives = ['Al','Su','Rbc', 'Htn']\n",
    "donnees[variablesQualitatives] = donnees[variablesQualitatives].astype('int16')\n",
    "variablesQuantitatives  = donnees.drop(columns=['Class']+variablesQualitatives).columns\n",
    "cible = 'Class'\n",
    "donnees.head()"
   ]
  },
  {
   "cell_type": "code",
   "execution_count": 6,
   "metadata": {
    "ExecuteTime": {
     "end_time": "2023-03-08T12:24:13.100693Z",
     "start_time": "2023-03-08T12:24:12.993379Z"
    }
   },
   "outputs": [
    {
     "data": {
      "text/html": [
       "<div>\n",
       "<style scoped>\n",
       "    .dataframe tbody tr th:only-of-type {\n",
       "        vertical-align: middle;\n",
       "    }\n",
       "\n",
       "    .dataframe tbody tr th {\n",
       "        vertical-align: top;\n",
       "    }\n",
       "\n",
       "    .dataframe thead th {\n",
       "        text-align: right;\n",
       "    }\n",
       "</style>\n",
       "<table border=\"1\" class=\"dataframe\">\n",
       "  <thead>\n",
       "    <tr style=\"text-align: right;\">\n",
       "      <th></th>\n",
       "      <th>Bp</th>\n",
       "      <th>Sg</th>\n",
       "      <th>Al</th>\n",
       "      <th>Su</th>\n",
       "      <th>Rbc</th>\n",
       "      <th>Bu</th>\n",
       "      <th>Sc</th>\n",
       "      <th>Sod</th>\n",
       "      <th>Pot</th>\n",
       "      <th>Hemo</th>\n",
       "      <th>Wbcc</th>\n",
       "      <th>Rbcc</th>\n",
       "      <th>Htn</th>\n",
       "      <th>Class</th>\n",
       "    </tr>\n",
       "  </thead>\n",
       "  <tbody>\n",
       "    <tr>\n",
       "      <th>count</th>\n",
       "      <td>400.000000</td>\n",
       "      <td>400.000000</td>\n",
       "      <td>400.000000</td>\n",
       "      <td>400.000000</td>\n",
       "      <td>400.000000</td>\n",
       "      <td>400.00000</td>\n",
       "      <td>400.00000</td>\n",
       "      <td>400.000000</td>\n",
       "      <td>400.000000</td>\n",
       "      <td>400.000000</td>\n",
       "      <td>400.000000</td>\n",
       "      <td>400.000000</td>\n",
       "      <td>400.000000</td>\n",
       "      <td>400.000000</td>\n",
       "    </tr>\n",
       "    <tr>\n",
       "      <th>mean</th>\n",
       "      <td>76.455000</td>\n",
       "      <td>1.017712</td>\n",
       "      <td>1.015000</td>\n",
       "      <td>0.395000</td>\n",
       "      <td>0.882500</td>\n",
       "      <td>57.40550</td>\n",
       "      <td>3.07235</td>\n",
       "      <td>137.529025</td>\n",
       "      <td>4.627850</td>\n",
       "      <td>12.526900</td>\n",
       "      <td>8406.090000</td>\n",
       "      <td>4.708275</td>\n",
       "      <td>0.367500</td>\n",
       "      <td>0.625000</td>\n",
       "    </tr>\n",
       "    <tr>\n",
       "      <th>std</th>\n",
       "      <td>13.476536</td>\n",
       "      <td>0.005434</td>\n",
       "      <td>1.272329</td>\n",
       "      <td>1.040038</td>\n",
       "      <td>0.322418</td>\n",
       "      <td>49.28597</td>\n",
       "      <td>5.61749</td>\n",
       "      <td>9.204273</td>\n",
       "      <td>2.819783</td>\n",
       "      <td>2.716171</td>\n",
       "      <td>2523.219976</td>\n",
       "      <td>0.840315</td>\n",
       "      <td>0.482728</td>\n",
       "      <td>0.484729</td>\n",
       "    </tr>\n",
       "    <tr>\n",
       "      <th>min</th>\n",
       "      <td>50.000000</td>\n",
       "      <td>1.005000</td>\n",
       "      <td>0.000000</td>\n",
       "      <td>0.000000</td>\n",
       "      <td>0.000000</td>\n",
       "      <td>1.50000</td>\n",
       "      <td>0.40000</td>\n",
       "      <td>4.500000</td>\n",
       "      <td>2.500000</td>\n",
       "      <td>3.100000</td>\n",
       "      <td>2200.000000</td>\n",
       "      <td>2.100000</td>\n",
       "      <td>0.000000</td>\n",
       "      <td>0.000000</td>\n",
       "    </tr>\n",
       "    <tr>\n",
       "      <th>25%</th>\n",
       "      <td>70.000000</td>\n",
       "      <td>1.015000</td>\n",
       "      <td>0.000000</td>\n",
       "      <td>0.000000</td>\n",
       "      <td>1.000000</td>\n",
       "      <td>27.00000</td>\n",
       "      <td>0.90000</td>\n",
       "      <td>135.000000</td>\n",
       "      <td>4.000000</td>\n",
       "      <td>10.875000</td>\n",
       "      <td>6975.000000</td>\n",
       "      <td>4.500000</td>\n",
       "      <td>0.000000</td>\n",
       "      <td>0.000000</td>\n",
       "    </tr>\n",
       "    <tr>\n",
       "      <th>50%</th>\n",
       "      <td>78.000000</td>\n",
       "      <td>1.020000</td>\n",
       "      <td>1.000000</td>\n",
       "      <td>0.000000</td>\n",
       "      <td>1.000000</td>\n",
       "      <td>44.00000</td>\n",
       "      <td>1.40000</td>\n",
       "      <td>137.530000</td>\n",
       "      <td>4.630000</td>\n",
       "      <td>12.530000</td>\n",
       "      <td>8406.000000</td>\n",
       "      <td>4.710000</td>\n",
       "      <td>0.000000</td>\n",
       "      <td>1.000000</td>\n",
       "    </tr>\n",
       "    <tr>\n",
       "      <th>75%</th>\n",
       "      <td>80.000000</td>\n",
       "      <td>1.020000</td>\n",
       "      <td>2.000000</td>\n",
       "      <td>0.000000</td>\n",
       "      <td>1.000000</td>\n",
       "      <td>61.75000</td>\n",
       "      <td>3.07000</td>\n",
       "      <td>141.000000</td>\n",
       "      <td>4.800000</td>\n",
       "      <td>14.625000</td>\n",
       "      <td>9400.000000</td>\n",
       "      <td>5.100000</td>\n",
       "      <td>1.000000</td>\n",
       "      <td>1.000000</td>\n",
       "    </tr>\n",
       "    <tr>\n",
       "      <th>max</th>\n",
       "      <td>180.000000</td>\n",
       "      <td>1.025000</td>\n",
       "      <td>5.000000</td>\n",
       "      <td>5.000000</td>\n",
       "      <td>1.000000</td>\n",
       "      <td>391.00000</td>\n",
       "      <td>76.00000</td>\n",
       "      <td>163.000000</td>\n",
       "      <td>47.000000</td>\n",
       "      <td>17.800000</td>\n",
       "      <td>26400.000000</td>\n",
       "      <td>8.000000</td>\n",
       "      <td>1.000000</td>\n",
       "      <td>1.000000</td>\n",
       "    </tr>\n",
       "  </tbody>\n",
       "</table>\n",
       "</div>"
      ],
      "text/plain": [
       "               Bp          Sg          Al          Su         Rbc         Bu  \\\n",
       "count  400.000000  400.000000  400.000000  400.000000  400.000000  400.00000   \n",
       "mean    76.455000    1.017712    1.015000    0.395000    0.882500   57.40550   \n",
       "std     13.476536    0.005434    1.272329    1.040038    0.322418   49.28597   \n",
       "min     50.000000    1.005000    0.000000    0.000000    0.000000    1.50000   \n",
       "25%     70.000000    1.015000    0.000000    0.000000    1.000000   27.00000   \n",
       "50%     78.000000    1.020000    1.000000    0.000000    1.000000   44.00000   \n",
       "75%     80.000000    1.020000    2.000000    0.000000    1.000000   61.75000   \n",
       "max    180.000000    1.025000    5.000000    5.000000    1.000000  391.00000   \n",
       "\n",
       "              Sc         Sod         Pot        Hemo          Wbcc  \\\n",
       "count  400.00000  400.000000  400.000000  400.000000    400.000000   \n",
       "mean     3.07235  137.529025    4.627850   12.526900   8406.090000   \n",
       "std      5.61749    9.204273    2.819783    2.716171   2523.219976   \n",
       "min      0.40000    4.500000    2.500000    3.100000   2200.000000   \n",
       "25%      0.90000  135.000000    4.000000   10.875000   6975.000000   \n",
       "50%      1.40000  137.530000    4.630000   12.530000   8406.000000   \n",
       "75%      3.07000  141.000000    4.800000   14.625000   9400.000000   \n",
       "max     76.00000  163.000000   47.000000   17.800000  26400.000000   \n",
       "\n",
       "             Rbcc         Htn       Class  \n",
       "count  400.000000  400.000000  400.000000  \n",
       "mean     4.708275    0.367500    0.625000  \n",
       "std      0.840315    0.482728    0.484729  \n",
       "min      2.100000    0.000000    0.000000  \n",
       "25%      4.500000    0.000000    0.000000  \n",
       "50%      4.710000    0.000000    1.000000  \n",
       "75%      5.100000    1.000000    1.000000  \n",
       "max      8.000000    1.000000    1.000000  "
      ]
     },
     "execution_count": 6,
     "metadata": {},
     "output_type": "execute_result"
    }
   ],
   "source": [
    "donnees.describe()"
   ]
  },
  {
   "cell_type": "markdown",
   "metadata": {},
   "source": [
    "# Les valeurs manquantes"
   ]
  },
  {
   "cell_type": "code",
   "execution_count": 7,
   "metadata": {
    "ExecuteTime": {
     "end_time": "2023-03-08T12:24:13.116624Z",
     "start_time": "2023-03-08T12:24:13.103638Z"
    }
   },
   "outputs": [
    {
     "data": {
      "text/plain": [
       "Bp       0\n",
       "Sg       0\n",
       "Al       0\n",
       "Su       0\n",
       "Rbc      0\n",
       "Bu       0\n",
       "Sc       0\n",
       "Sod      0\n",
       "Pot      0\n",
       "Hemo     0\n",
       "Wbcc     0\n",
       "Rbcc     0\n",
       "Htn      0\n",
       "Class    0\n",
       "dtype: int64"
      ]
     },
     "execution_count": 7,
     "metadata": {},
     "output_type": "execute_result"
    }
   ],
   "source": [
    "donnees.isna().sum()"
   ]
  },
  {
   "cell_type": "code",
   "execution_count": 8,
   "metadata": {
    "ExecuteTime": {
     "end_time": "2023-03-08T12:24:13.132576Z",
     "start_time": "2023-03-08T12:24:13.120595Z"
    }
   },
   "outputs": [],
   "source": [
    "X = donnees.drop(columns='Class')\n",
    "y = donnees.Class"
   ]
  },
  {
   "cell_type": "markdown",
   "metadata": {
    "ExecuteTime": {
     "end_time": "2021-12-09T16:26:20.783906Z",
     "start_time": "2021-12-09T16:26:20.768946Z"
    }
   },
   "source": [
    "# Separation des données pour l'apprentissage\n",
    "\n",
    "<img src=\"https://raw.githubusercontent.com/rbizoi/IntelligenceEnDonneesDeSante/main/images/EchantillonApprentissageTest.png\" width=\"800\">"
   ]
  },
  {
   "cell_type": "code",
   "execution_count": 9,
   "metadata": {
    "ExecuteTime": {
     "end_time": "2023-03-08T12:24:13.163406Z",
     "start_time": "2023-03-08T12:24:13.135553Z"
    }
   },
   "outputs": [],
   "source": [
    "X_train, X_test, y_train, y_test = train_test_split( X, \n",
    "                                                     y, \n",
    "                                                     test_size=0.2, \n",
    "                                                     random_state=seed, \n",
    "                                                     stratify = y\n",
    "                                                   ) "
   ]
  },
  {
   "cell_type": "code",
   "execution_count": 10,
   "metadata": {
    "ExecuteTime": {
     "end_time": "2023-03-08T12:24:13.179363Z",
     "start_time": "2023-03-08T12:24:13.166399Z"
    }
   },
   "outputs": [
    {
     "data": {
      "text/plain": [
       "((320, 13), (80, 13))"
      ]
     },
     "execution_count": 10,
     "metadata": {},
     "output_type": "execute_result"
    }
   ],
   "source": [
    "X_train.shape, X_test.shape"
   ]
  },
  {
   "cell_type": "code",
   "execution_count": 11,
   "metadata": {
    "ExecuteTime": {
     "end_time": "2023-03-08T12:24:15.091921Z",
     "start_time": "2023-03-08T12:24:13.182355Z"
    }
   },
   "outputs": [
    {
     "data": {
      "image/png": "[encoded data removed]",
      "text/plain": [
       "<Figure size 800x800 with 1 Axes>"
      ]
     },
     "metadata": {},
     "output_type": "display_data"
    }
   ],
   "source": [
    "y_train.hist(bins=7, figsize=(8,8), label='train');\n",
    "y_test.hist(bins=7, figsize=(8,8), label='test');\n",
    "plt.legend();\n",
    "sauvegarderImage(\"La separation des données pour l'apprentissage\")"
   ]
  }
 ],
 "metadata": {
  "kernelspec": {
   "display_name": "Python 3 (ipykernel)",
   "language": "python",
   "name": "python3"
  },
  "language_info": {
   "codemirror_mode": {
    "name": "ipython",
    "version": 3
   },
   "file_extension": ".py",
   "mimetype": "text/x-python",
   "name": "python",
   "nbconvert_exporter": "python",
   "pygments_lexer": "ipython3",
   "version": "3.10.0"
  },
  "toc": {
   "base_numbering": 1,
   "nav_menu": {},
   "number_sections": true,
   "sideBar": true,
   "skip_h1_title": false,
   "title_cell": "Table of Contents",
   "title_sidebar": "Contents",
   "toc_cell": true,
   "toc_position": {
    "height": "calc(100% - 180px)",
    "left": "10px",
    "top": "150px",
    "width": "392.533px"
   },
   "toc_section_display": true,
   "toc_window_display": false
  }
 },
 "nbformat": 4,
 "nbformat_minor": 4
}
