{
 "cells": [
  {
   "cell_type": "markdown",
   "metadata": {
    "toc": true
   },
   "source": [
    "<h1>Table of Contents<span class=\"tocSkip\"></span></h1>\n",
    "<div class=\"toc\"><ul class=\"toc-item\"></ul></div>"
   ]
  },
  {
   "cell_type": "code",
   "execution_count": 15,
   "metadata": {
    "ExecuteTime": {
     "end_time": "2019-07-23T13:16:28.257866Z",
     "start_time": "2019-07-23T13:16:28.242246Z"
    }
   },
   "outputs": [
    {
     "name": "stdout",
     "output_type": "stream",
     "text": [
      "Populating the interactive namespace from numpy and matplotlib\n"
     ]
    }
   ],
   "source": [
    "import pandas as pd, numpy as np, seaborn as sns, warnings, os, sys, time, copy as cp\n",
    "from datetime import datetime as dt\n",
    "from matplotlib import pyplot as plt\n",
    "\n",
    "import matplotlib.font_manager as fm\n",
    "import plotly.express as px\n",
    "import plotly.graph_objs as go\n",
    "\n",
    "font1 = fm.FontProperties(size=20)\n",
    "font2 = fm.FontProperties(size=24)\n",
    "warnings.filterwarnings(action=\"ignore\")\n",
    "if int(str(sns.__version__).split('.')[1]) > 8 :\n",
    "    plt.style.use('seaborn-v0_8-darkgrid')\n",
    "else:\n",
    "    plt.style.use('seaborn-darkgrid')\n",
    "sns.set(font_scale=2)"
   ]
  },
  {
   "cell_type": "code",
   "execution_count": 3,
   "metadata": {
    "ExecuteTime": {
     "end_time": "2019-07-23T13:14:37.394962Z",
     "start_time": "2019-07-23T13:14:32.505501Z"
    }
   },
   "outputs": [
    {
     "name": "stdout",
     "output_type": "stream",
     "text": [
      "Exécution  :4.86s\n"
     ]
    },
    {
     "data": {
      "text/html": [
       "<div>\n",
       "<style scoped>\n",
       "    .dataframe tbody tr th:only-of-type {\n",
       "        vertical-align: middle;\n",
       "    }\n",
       "\n",
       "    .dataframe tbody tr th {\n",
       "        vertical-align: top;\n",
       "    }\n",
       "\n",
       "    .dataframe thead th {\n",
       "        text-align: right;\n",
       "    }\n",
       "</style>\n",
       "<table border=\"1\" class=\"dataframe\">\n",
       "  <thead>\n",
       "    <tr style=\"text-align: right;\">\n",
       "      <th></th>\n",
       "      <th>label</th>\n",
       "      <th>pixel0</th>\n",
       "      <th>pixel1</th>\n",
       "      <th>pixel2</th>\n",
       "      <th>pixel3</th>\n",
       "      <th>pixel4</th>\n",
       "      <th>pixel5</th>\n",
       "      <th>pixel6</th>\n",
       "      <th>pixel7</th>\n",
       "      <th>pixel8</th>\n",
       "      <th>...</th>\n",
       "      <th>pixel774</th>\n",
       "      <th>pixel775</th>\n",
       "      <th>pixel776</th>\n",
       "      <th>pixel777</th>\n",
       "      <th>pixel778</th>\n",
       "      <th>pixel779</th>\n",
       "      <th>pixel780</th>\n",
       "      <th>pixel781</th>\n",
       "      <th>pixel782</th>\n",
       "      <th>pixel783</th>\n",
       "    </tr>\n",
       "  </thead>\n",
       "  <tbody>\n",
       "    <tr>\n",
       "      <th>0</th>\n",
       "      <td>1</td>\n",
       "      <td>0</td>\n",
       "      <td>0</td>\n",
       "      <td>0</td>\n",
       "      <td>0</td>\n",
       "      <td>0</td>\n",
       "      <td>0</td>\n",
       "      <td>0</td>\n",
       "      <td>0</td>\n",
       "      <td>0</td>\n",
       "      <td>...</td>\n",
       "      <td>0</td>\n",
       "      <td>0</td>\n",
       "      <td>0</td>\n",
       "      <td>0</td>\n",
       "      <td>0</td>\n",
       "      <td>0</td>\n",
       "      <td>0</td>\n",
       "      <td>0</td>\n",
       "      <td>0</td>\n",
       "      <td>0</td>\n",
       "    </tr>\n",
       "    <tr>\n",
       "      <th>1</th>\n",
       "      <td>0</td>\n",
       "      <td>0</td>\n",
       "      <td>0</td>\n",
       "      <td>0</td>\n",
       "      <td>0</td>\n",
       "      <td>0</td>\n",
       "      <td>0</td>\n",
       "      <td>0</td>\n",
       "      <td>0</td>\n",
       "      <td>0</td>\n",
       "      <td>...</td>\n",
       "      <td>0</td>\n",
       "      <td>0</td>\n",
       "      <td>0</td>\n",
       "      <td>0</td>\n",
       "      <td>0</td>\n",
       "      <td>0</td>\n",
       "      <td>0</td>\n",
       "      <td>0</td>\n",
       "      <td>0</td>\n",
       "      <td>0</td>\n",
       "    </tr>\n",
       "    <tr>\n",
       "      <th>2</th>\n",
       "      <td>1</td>\n",
       "      <td>0</td>\n",
       "      <td>0</td>\n",
       "      <td>0</td>\n",
       "      <td>0</td>\n",
       "      <td>0</td>\n",
       "      <td>0</td>\n",
       "      <td>0</td>\n",
       "      <td>0</td>\n",
       "      <td>0</td>\n",
       "      <td>...</td>\n",
       "      <td>0</td>\n",
       "      <td>0</td>\n",
       "      <td>0</td>\n",
       "      <td>0</td>\n",
       "      <td>0</td>\n",
       "      <td>0</td>\n",
       "      <td>0</td>\n",
       "      <td>0</td>\n",
       "      <td>0</td>\n",
       "      <td>0</td>\n",
       "    </tr>\n",
       "    <tr>\n",
       "      <th>3</th>\n",
       "      <td>4</td>\n",
       "      <td>0</td>\n",
       "      <td>0</td>\n",
       "      <td>0</td>\n",
       "      <td>0</td>\n",
       "      <td>0</td>\n",
       "      <td>0</td>\n",
       "      <td>0</td>\n",
       "      <td>0</td>\n",
       "      <td>0</td>\n",
       "      <td>...</td>\n",
       "      <td>0</td>\n",
       "      <td>0</td>\n",
       "      <td>0</td>\n",
       "      <td>0</td>\n",
       "      <td>0</td>\n",
       "      <td>0</td>\n",
       "      <td>0</td>\n",
       "      <td>0</td>\n",
       "      <td>0</td>\n",
       "      <td>0</td>\n",
       "    </tr>\n",
       "    <tr>\n",
       "      <th>4</th>\n",
       "      <td>0</td>\n",
       "      <td>0</td>\n",
       "      <td>0</td>\n",
       "      <td>0</td>\n",
       "      <td>0</td>\n",
       "      <td>0</td>\n",
       "      <td>0</td>\n",
       "      <td>0</td>\n",
       "      <td>0</td>\n",
       "      <td>0</td>\n",
       "      <td>...</td>\n",
       "      <td>0</td>\n",
       "      <td>0</td>\n",
       "      <td>0</td>\n",
       "      <td>0</td>\n",
       "      <td>0</td>\n",
       "      <td>0</td>\n",
       "      <td>0</td>\n",
       "      <td>0</td>\n",
       "      <td>0</td>\n",
       "      <td>0</td>\n",
       "    </tr>\n",
       "  </tbody>\n",
       "</table>\n",
       "<p>5 rows × 785 columns</p>\n",
       "</div>"
      ],
      "text/plain": [
       "   label  pixel0  pixel1  pixel2  pixel3  pixel4  pixel5  pixel6  pixel7  \\\n",
       "0      1       0       0       0       0       0       0       0       0   \n",
       "1      0       0       0       0       0       0       0       0       0   \n",
       "2      1       0       0       0       0       0       0       0       0   \n",
       "3      4       0       0       0       0       0       0       0       0   \n",
       "4      0       0       0       0       0       0       0       0       0   \n",
       "\n",
       "   pixel8  ...  pixel774  pixel775  pixel776  pixel777  pixel778  pixel779  \\\n",
       "0       0  ...         0         0         0         0         0         0   \n",
       "1       0  ...         0         0         0         0         0         0   \n",
       "2       0  ...         0         0         0         0         0         0   \n",
       "3       0  ...         0         0         0         0         0         0   \n",
       "4       0  ...         0         0         0         0         0         0   \n",
       "\n",
       "   pixel780  pixel781  pixel782  pixel783  \n",
       "0         0         0         0         0  \n",
       "1         0         0         0         0  \n",
       "2         0         0         0         0  \n",
       "3         0         0         0         0  \n",
       "4         0         0         0         0  \n",
       "\n",
       "[5 rows x 785 columns]"
      ]
     },
     "execution_count": 3,
     "metadata": {},
     "output_type": "execute_result"
    }
   ],
   "source": [
    "t0 = time.time()        \n",
    "donnees=pd.read_csv(\"../donnees/DigitRecognizer.csv\")#,nrows=1000)\n",
    "t1 = time.time()        \n",
    "print('Exécution  :'+('%.2fs' % (t1 - t0)).lstrip('0'))\n",
    "donnees.head()"
   ]
  },
  {
   "cell_type": "code",
   "execution_count": 5,
   "metadata": {
    "ExecuteTime": {
     "end_time": "2019-07-23T13:15:13.033552Z",
     "start_time": "2019-07-23T13:15:13.017961Z"
    }
   },
   "outputs": [],
   "source": [
    "def afficheDigits(donnees,simg):\n",
    "    plt.figure(1, figsize=(8, 8))\n",
    "    plt.clf()\n",
    "    plt.subplots_adjust(left=.01, right=.99, bottom=.01, top=.91)\n",
    "    for i in range(36):\n",
    "        plt.subplot(6, 6, i + 1)\n",
    "        plt.imshow(donnees.iloc[i,:].values.reshape((simg, simg)), cmap=plt.cm.gray, vmax=16, interpolation='nearest')\n",
    "        plt.xticks(())\n",
    "        plt.yticks(())"
   ]
  },
  {
   "cell_type": "code",
   "execution_count": 17,
   "metadata": {
    "ExecuteTime": {
     "end_time": "2019-07-23T13:19:15.601875Z",
     "start_time": "2019-07-23T13:19:09.344951Z"
    }
   },
   "outputs": [
    {
     "name": "stdout",
     "output_type": "stream",
     "text": [
      "Exécution  :5.93s\n",
      "Composants = 320\n"
     ]
    },
    {
     "data": {
      "image/png": "[encoded data removed]",
      "text/plain": [
       "<Figure size 1008x864 with 1 Axes>"
      ]
     },
     "metadata": {},
     "output_type": "display_data"
    }
   ],
   "source": [
    "from sklearn.decomposition import PCA\n",
    "from sklearn.preprocessing import StandardScaler,MinMaxScaler\n",
    "t0 = time.time()        \n",
    "pca = PCA().fit(StandardScaler().fit_transform(donnees.iloc[:,1:]))\n",
    "plt.figure(figsize=(14,12))\n",
    "plt.plot(np.cumsum(pca.explained_variance_ratio_))\n",
    "plt.xlabel('nombre de dimensions')\n",
    "plt.ylabel('Variance expliquée')\n",
    "t1 = time.time()        \n",
    "print('Exécution  :'+('%.2fs' % (t1 - t0)).lstrip('0'))\n",
    "print('Composants =',sum(pca.explained_variance_ratio_.cumsum()*100 < 95 ) + 1 )"
   ]
  },
  {
   "cell_type": "code",
   "execution_count": 20,
   "metadata": {
    "ExecuteTime": {
     "end_time": "2019-07-23T13:24:14.226046Z",
     "start_time": "2019-07-23T13:24:09.383408Z"
    }
   },
   "outputs": [
    {
     "name": "stdout",
     "output_type": "stream",
     "text": [
      "Exécution  :4.53s\n",
      "Composants = 154\n"
     ]
    },
    {
     "data": {
      "image/png": "[encoded data removed]",
      "text/plain": [
       "<Figure size 1008x864 with 1 Axes>"
      ]
     },
     "metadata": {},
     "output_type": "display_data"
    }
   ],
   "source": [
    "from sklearn.decomposition import PCA\n",
    "from sklearn.preprocessing import StandardScaler,MinMaxScaler\n",
    "t0 = time.time()        \n",
    "pca = PCA().fit(MinMaxScaler().fit_transform(donnees.iloc[:,1:]))\n",
    "plt.figure(figsize=(14,12))\n",
    "plt.plot(np.cumsum(pca.explained_variance_ratio_))\n",
    "plt.xlabel('nombre de dimensions')\n",
    "plt.ylabel('Variance expliquée')\n",
    "t1 = time.time()        \n",
    "print('Exécution  :'+('%.2fs' % (t1 - t0)).lstrip('0'))\n",
    "print('Composants =',sum(pca.explained_variance_ratio_.cumsum()*100 < 95 ) + 1 )"
   ]
  },
  {
   "cell_type": "code",
   "execution_count": 21,
   "metadata": {
    "ExecuteTime": {
     "end_time": "2019-07-23T13:24:46.934989Z",
     "start_time": "2019-07-23T13:24:42.965592Z"
    }
   },
   "outputs": [
    {
     "name": "stdout",
     "output_type": "stream",
     "text": [
      "Exécution  :3.66s\n",
      "Composants = 154\n"
     ]
    },
    {
     "data": {
      "image/png": "[encoded data removed]",
      "text/plain": [
       "<Figure size 1008x864 with 1 Axes>"
      ]
     },
     "metadata": {},
     "output_type": "display_data"
    }
   ],
   "source": [
    "from sklearn.decomposition import PCA\n",
    "from sklearn.preprocessing import StandardScaler,MinMaxScaler\n",
    "t0 = time.time()        \n",
    "pca = PCA().fit(donnees.iloc[:,1:])\n",
    "plt.figure(figsize=(14,12))\n",
    "plt.plot(np.cumsum(pca.explained_variance_ratio_))\n",
    "plt.xlabel('nombre de dimensions')\n",
    "plt.ylabel('Variance expliquée')\n",
    "t1 = time.time()        \n",
    "print('Exécution  :'+('%.2fs' % (t1 - t0)).lstrip('0'))\n",
    "print('Composants =',sum(pca.explained_variance_ratio_.cumsum()*100 < 95 ) + 1 )"
   ]
  },
  {
   "cell_type": "code",
   "execution_count": 7,
   "metadata": {
    "ExecuteTime": {
     "end_time": "2019-07-23T13:15:25.777194Z",
     "start_time": "2019-07-23T13:15:21.153284Z"
    }
   },
   "outputs": [
    {
     "name": "stdout",
     "output_type": "stream",
     "text": [
      "(42000, 785)\n",
      "(42000, 169)\n",
      "Exécution  : 4.61s\n"
     ]
    }
   ],
   "source": [
    "t0 = time.time()        \n",
    "ndim = 169\n",
    "pca = PCA(ndim) \n",
    "projected = pca.fit_transform(donnees.iloc[:,1:])\n",
    "print(donnees.shape)\n",
    "print(projected.shape)\n",
    "t1 = time.time()        \n",
    "print(('Exécution  : %.2fs' % (t1 - t0)).lstrip('0'))"
   ]
  },
  {
   "cell_type": "code",
   "execution_count": 8,
   "metadata": {
    "ExecuteTime": {
     "end_time": "2019-07-23T13:15:32.143748Z",
     "start_time": "2019-07-23T13:15:31.893808Z"
    }
   },
   "outputs": [
    {
     "data": {
      "text/html": [
       "<div>\n",
       "<style scoped>\n",
       "    .dataframe tbody tr th:only-of-type {\n",
       "        vertical-align: middle;\n",
       "    }\n",
       "\n",
       "    .dataframe tbody tr th {\n",
       "        vertical-align: top;\n",
       "    }\n",
       "\n",
       "    .dataframe thead th {\n",
       "        text-align: right;\n",
       "    }\n",
       "</style>\n",
       "<table border=\"1\" class=\"dataframe\">\n",
       "  <thead>\n",
       "    <tr style=\"text-align: right;\">\n",
       "      <th></th>\n",
       "      <th>pixel0</th>\n",
       "      <th>pixel1</th>\n",
       "      <th>pixel2</th>\n",
       "      <th>pixel3</th>\n",
       "      <th>pixel4</th>\n",
       "      <th>pixel5</th>\n",
       "      <th>pixel6</th>\n",
       "      <th>pixel7</th>\n",
       "      <th>pixel8</th>\n",
       "      <th>pixel9</th>\n",
       "      <th>...</th>\n",
       "      <th>pixel774</th>\n",
       "      <th>pixel775</th>\n",
       "      <th>pixel776</th>\n",
       "      <th>pixel777</th>\n",
       "      <th>pixel778</th>\n",
       "      <th>pixel779</th>\n",
       "      <th>pixel780</th>\n",
       "      <th>pixel781</th>\n",
       "      <th>pixel782</th>\n",
       "      <th>pixel783</th>\n",
       "    </tr>\n",
       "  </thead>\n",
       "  <tbody>\n",
       "    <tr>\n",
       "      <th>0</th>\n",
       "      <td>0</td>\n",
       "      <td>0</td>\n",
       "      <td>0</td>\n",
       "      <td>0</td>\n",
       "      <td>0</td>\n",
       "      <td>0</td>\n",
       "      <td>0</td>\n",
       "      <td>0</td>\n",
       "      <td>0</td>\n",
       "      <td>0</td>\n",
       "      <td>...</td>\n",
       "      <td>0</td>\n",
       "      <td>0</td>\n",
       "      <td>0</td>\n",
       "      <td>0</td>\n",
       "      <td>0</td>\n",
       "      <td>0</td>\n",
       "      <td>0</td>\n",
       "      <td>0</td>\n",
       "      <td>0</td>\n",
       "      <td>0</td>\n",
       "    </tr>\n",
       "    <tr>\n",
       "      <th>1</th>\n",
       "      <td>0</td>\n",
       "      <td>0</td>\n",
       "      <td>0</td>\n",
       "      <td>0</td>\n",
       "      <td>0</td>\n",
       "      <td>0</td>\n",
       "      <td>0</td>\n",
       "      <td>0</td>\n",
       "      <td>0</td>\n",
       "      <td>0</td>\n",
       "      <td>...</td>\n",
       "      <td>0</td>\n",
       "      <td>0</td>\n",
       "      <td>0</td>\n",
       "      <td>0</td>\n",
       "      <td>0</td>\n",
       "      <td>0</td>\n",
       "      <td>0</td>\n",
       "      <td>0</td>\n",
       "      <td>0</td>\n",
       "      <td>0</td>\n",
       "    </tr>\n",
       "    <tr>\n",
       "      <th>2</th>\n",
       "      <td>0</td>\n",
       "      <td>0</td>\n",
       "      <td>0</td>\n",
       "      <td>0</td>\n",
       "      <td>0</td>\n",
       "      <td>0</td>\n",
       "      <td>0</td>\n",
       "      <td>0</td>\n",
       "      <td>0</td>\n",
       "      <td>0</td>\n",
       "      <td>...</td>\n",
       "      <td>0</td>\n",
       "      <td>0</td>\n",
       "      <td>0</td>\n",
       "      <td>0</td>\n",
       "      <td>0</td>\n",
       "      <td>0</td>\n",
       "      <td>0</td>\n",
       "      <td>0</td>\n",
       "      <td>0</td>\n",
       "      <td>0</td>\n",
       "    </tr>\n",
       "    <tr>\n",
       "      <th>3</th>\n",
       "      <td>0</td>\n",
       "      <td>0</td>\n",
       "      <td>0</td>\n",
       "      <td>0</td>\n",
       "      <td>0</td>\n",
       "      <td>0</td>\n",
       "      <td>0</td>\n",
       "      <td>0</td>\n",
       "      <td>0</td>\n",
       "      <td>0</td>\n",
       "      <td>...</td>\n",
       "      <td>0</td>\n",
       "      <td>0</td>\n",
       "      <td>0</td>\n",
       "      <td>0</td>\n",
       "      <td>0</td>\n",
       "      <td>0</td>\n",
       "      <td>0</td>\n",
       "      <td>0</td>\n",
       "      <td>0</td>\n",
       "      <td>0</td>\n",
       "    </tr>\n",
       "    <tr>\n",
       "      <th>4</th>\n",
       "      <td>0</td>\n",
       "      <td>0</td>\n",
       "      <td>0</td>\n",
       "      <td>0</td>\n",
       "      <td>0</td>\n",
       "      <td>0</td>\n",
       "      <td>0</td>\n",
       "      <td>0</td>\n",
       "      <td>0</td>\n",
       "      <td>0</td>\n",
       "      <td>...</td>\n",
       "      <td>0</td>\n",
       "      <td>0</td>\n",
       "      <td>0</td>\n",
       "      <td>0</td>\n",
       "      <td>0</td>\n",
       "      <td>0</td>\n",
       "      <td>0</td>\n",
       "      <td>0</td>\n",
       "      <td>0</td>\n",
       "      <td>0</td>\n",
       "    </tr>\n",
       "  </tbody>\n",
       "</table>\n",
       "<p>5 rows × 784 columns</p>\n",
       "</div>"
      ],
      "text/plain": [
       "   pixel0  pixel1  pixel2  pixel3  pixel4  pixel5  pixel6  pixel7  pixel8  \\\n",
       "0       0       0       0       0       0       0       0       0       0   \n",
       "1       0       0       0       0       0       0       0       0       0   \n",
       "2       0       0       0       0       0       0       0       0       0   \n",
       "3       0       0       0       0       0       0       0       0       0   \n",
       "4       0       0       0       0       0       0       0       0       0   \n",
       "\n",
       "   pixel9  ...  pixel774  pixel775  pixel776  pixel777  pixel778  pixel779  \\\n",
       "0       0  ...         0         0         0         0         0         0   \n",
       "1       0  ...         0         0         0         0         0         0   \n",
       "2       0  ...         0         0         0         0         0         0   \n",
       "3       0  ...         0         0         0         0         0         0   \n",
       "4       0  ...         0         0         0         0         0         0   \n",
       "\n",
       "   pixel780  pixel781  pixel782  pixel783  \n",
       "0         0         0         0         0  \n",
       "1         0         0         0         0  \n",
       "2         0         0         0         0  \n",
       "3         0         0         0         0  \n",
       "4         0         0         0         0  \n",
       "\n",
       "[5 rows x 784 columns]"
      ]
     },
     "execution_count": 8,
     "metadata": {},
     "output_type": "execute_result"
    }
   ],
   "source": [
    "label = donnees.label\n",
    "donneesR = pd.DataFrame(donnees.drop(columns='label'),\n",
    "                        index=donnees.index)\n",
    "donneesP = pd.DataFrame(projected,index=donnees.index)\n",
    "#projected['label'] = donnees.label\n",
    "donneesR.head()"
   ]
  },
  {
   "cell_type": "code",
   "execution_count": 9,
   "metadata": {
    "ExecuteTime": {
     "end_time": "2019-07-23T13:15:34.634869Z",
     "start_time": "2019-07-23T13:15:34.603830Z"
    }
   },
   "outputs": [
    {
     "data": {
      "text/plain": [
       "(42000,)"
      ]
     },
     "execution_count": 9,
     "metadata": {},
     "output_type": "execute_result"
    }
   ],
   "source": [
    "label.shape"
   ]
  },
  {
   "cell_type": "code",
   "execution_count": 10,
   "metadata": {
    "ExecuteTime": {
     "end_time": "2019-07-23T13:15:36.317671Z",
     "start_time": "2019-07-23T13:15:34.792499Z"
    }
   },
   "outputs": [
    {
     "data": {
      "image/png": "[encoded data removed]",
      "text/plain": [
       "<Figure size 576x576 with 36 Axes>"
      ]
     },
     "metadata": {},
     "output_type": "display_data"
    }
   ],
   "source": [
    "afficheDigits(donneesR,28)"
   ]
  },
  {
   "cell_type": "code",
   "execution_count": 11,
   "metadata": {
    "ExecuteTime": {
     "end_time": "2019-07-23T13:15:38.599650Z",
     "start_time": "2019-07-23T13:15:37.162460Z"
    }
   },
   "outputs": [
    {
     "data": {
      "image/png": "[encoded data removed]",
      "text/plain": [
       "<Figure size 576x576 with 36 Axes>"
      ]
     },
     "metadata": {},
     "output_type": "display_data"
    }
   ],
   "source": [
    "afficheDigits(donneesP,13)"
   ]
  },
  {
   "cell_type": "code",
   "execution_count": 12,
   "metadata": {
    "ExecuteTime": {
     "end_time": "2019-07-23T13:15:43.257932Z",
     "start_time": "2019-07-23T13:15:43.195636Z"
    }
   },
   "outputs": [],
   "source": [
    "from sklearn.cluster import KMeans\n",
    "kmeans = KMeans(n_clusters=50)"
   ]
  },
  {
   "cell_type": "code",
   "execution_count": 13,
   "metadata": {
    "ExecuteTime": {
     "end_time": "2019-07-23T13:16:05.959234Z",
     "start_time": "2019-07-23T13:15:44.183648Z"
    }
   },
   "outputs": [
    {
     "data": {
      "image/png": "[encoded data removed]",
      "text/plain": [
       "<Figure size 576x576 with 36 Axes>"
      ]
     },
     "metadata": {},
     "output_type": "display_data"
    }
   ],
   "source": [
    "val = 0 \n",
    "kmeans.fit(donnees[donnees.label == val].iloc[:,1:])\n",
    "donneesKM0 = pd.DataFrame(kmeans.cluster_centers_)\n",
    "donneesKM0['label'] = val\n",
    "afficheDigits(donneesKM0.iloc[:,1:],28)"
   ]
  },
  {
   "cell_type": "code",
   "execution_count": 14,
   "metadata": {
    "ExecuteTime": {
     "end_time": "2019-07-23T13:16:28.242246Z",
     "start_time": "2019-07-23T13:16:05.959234Z"
    }
   },
   "outputs": [
    {
     "data": {
      "image/png": "[encoded data removed]",
      "text/plain": [
       "<Figure size 576x576 with 36 Axes>"
      ]
     },
     "metadata": {},
     "output_type": "display_data"
    }
   ],
   "source": [
    "val = 1 \n",
    "kmeans.fit(donnees[donnees.label == val].iloc[:,1:])\n",
    "donneesKM1 = pd.DataFrame(kmeans.cluster_centers_)\n",
    "donneesKM1['label'] = val\n",
    "afficheDigits(donneesKM1.iloc[:,1:],28)"
   ]
  },
  {
   "cell_type": "code",
   "execution_count": 7,
   "metadata": {
    "ExecuteTime": {
     "end_time": "2019-07-16T11:40:03.978834Z",
     "start_time": "2019-07-16T11:40:02.287200Z"
    }
   },
   "outputs": [
    {
     "data": {
      "image/png": "[encoded data removed]",
      "text/plain": [
       "<Figure size 576x576 with 36 Axes>"
      ]
     },
     "metadata": {},
     "output_type": "display_data"
    }
   ],
   "source": [
    "donneesKM = pd.concat([donneesKM0,donneesKM1])\n",
    "afficheDigits(donneesKM.iloc[40:,1:],28)"
   ]
  },
  {
   "cell_type": "code",
   "execution_count": 32,
   "metadata": {
    "ExecuteTime": {
     "end_time": "2019-07-23T13:35:03.066102Z",
     "start_time": "2019-07-23T13:35:03.050509Z"
    }
   },
   "outputs": [],
   "source": [
    "from sklearn.cluster import KMeans\n",
    "\n",
    "def calculKMensDonnees(donnees, label, clusters = 50):\n",
    "    t0 = time.time()\n",
    "    donneesK = pd.DataFrame()\n",
    "    for i in range(10):\n",
    "        d = donnees[label == i]\n",
    "\n",
    "        kmeans = KMeans(n_clusters=clusters)\n",
    "        kmeans.fit(d)\n",
    "        #y_kmeans = kmeans.predict(d)\n",
    "        df = pd.DataFrame(kmeans.cluster_centers_)\n",
    "        df['label'] = i #np.ones(clusters)*i\n",
    "        if i == 0 :\n",
    "            donneesK = df.copy()\n",
    "        else :\n",
    "            donneesK = pd.concat([donneesK,df])       \n",
    "    t1 = time.time()\n",
    "    print('Exécution  :'+('%.2fs' % (t1 - t0)).lstrip('0'))\n",
    "    return donneesK"
   ]
  },
  {
   "cell_type": "code",
   "execution_count": 15,
   "metadata": {
    "ExecuteTime": {
     "end_time": "2019-07-16T11:59:02.502084Z",
     "start_time": "2019-07-16T11:40:31.372252Z"
    }
   },
   "outputs": [
    {
     "name": "stdout",
     "output_type": "stream",
     "text": [
      "Exécution  :62.05s\n",
      "Exécution  :212.79s\n",
      "Exécution  :82.25s\n",
      "Exécution  :281.01s\n",
      "Exécution  :97.88s\n",
      "Exécution  :375.10s\n"
     ]
    }
   ],
   "source": [
    "donneesP50  = calculKMensDonnees(donneesP, label,50)\n",
    "donneesR50  = calculKMensDonnees(donneesR, label,50)\n",
    "donneesP100 = calculKMensDonnees(donneesP, label,100)\n",
    "donneesR100 = calculKMensDonnees(donneesR, label,100)\n",
    "donneesP150 = calculKMensDonnees(donneesP, label,150)\n",
    "donneesR150 = calculKMensDonnees(donneesR, label,150)"
   ]
  },
  {
   "cell_type": "code",
   "execution_count": 22,
   "metadata": {
    "ExecuteTime": {
     "end_time": "2019-07-23T13:27:27.154286Z",
     "start_time": "2019-07-23T13:27:27.138665Z"
    }
   },
   "outputs": [
    {
     "data": {
      "text/plain": [
       "((42000, 784), (42000, 169))"
      ]
     },
     "execution_count": 22,
     "metadata": {},
     "output_type": "execute_result"
    }
   ],
   "source": [
    "donneesR.shape,donneesP.shape"
   ]
  },
  {
   "cell_type": "code",
   "execution_count": 17,
   "metadata": {
    "ExecuteTime": {
     "end_time": "2019-07-16T11:59:17.404849Z",
     "start_time": "2019-07-16T11:59:02.517707Z"
    }
   },
   "outputs": [
    {
     "data": {
      "text/html": [
       "<div>\n",
       "<style scoped>\n",
       "    .dataframe tbody tr th:only-of-type {\n",
       "        vertical-align: middle;\n",
       "    }\n",
       "\n",
       "    .dataframe tbody tr th {\n",
       "        vertical-align: top;\n",
       "    }\n",
       "\n",
       "    .dataframe thead th {\n",
       "        text-align: right;\n",
       "    }\n",
       "</style>\n",
       "<table border=\"1\" class=\"dataframe\">\n",
       "  <thead>\n",
       "    <tr style=\"text-align: right;\">\n",
       "      <th></th>\n",
       "      <th>predict</th>\n",
       "      <th>label</th>\n",
       "    </tr>\n",
       "  </thead>\n",
       "  <tbody>\n",
       "    <tr>\n",
       "      <th>0</th>\n",
       "      <td>1</td>\n",
       "      <td>1</td>\n",
       "    </tr>\n",
       "    <tr>\n",
       "      <th>1</th>\n",
       "      <td>0</td>\n",
       "      <td>0</td>\n",
       "    </tr>\n",
       "    <tr>\n",
       "      <th>2</th>\n",
       "      <td>1</td>\n",
       "      <td>1</td>\n",
       "    </tr>\n",
       "    <tr>\n",
       "      <th>3</th>\n",
       "      <td>4</td>\n",
       "      <td>4</td>\n",
       "    </tr>\n",
       "    <tr>\n",
       "      <th>4</th>\n",
       "      <td>0</td>\n",
       "      <td>0</td>\n",
       "    </tr>\n",
       "  </tbody>\n",
       "</table>\n",
       "</div>"
      ],
      "text/plain": [
       "   predict  label\n",
       "0        1      1\n",
       "1        0      0\n",
       "2        1      1\n",
       "3        4      4\n",
       "4        0      0"
      ]
     },
     "execution_count": 17,
     "metadata": {},
     "output_type": "execute_result"
    }
   ],
   "source": [
    "from sklearn import neighbors\n",
    "clf = neighbors.KNeighborsClassifier(1)\n",
    "clf.fit(donneesP50.iloc[:,:169], donneesP50.label)\n",
    "Z = pd.DataFrame(clf.predict(donneesP),columns=[\"predict\"])\n",
    "Z[\"label\"] = label    \n",
    "Z.head()    "
   ]
  },
  {
   "cell_type": "code",
   "execution_count": 18,
   "metadata": {
    "ExecuteTime": {
     "end_time": "2019-07-16T11:59:17.467376Z",
     "start_time": "2019-07-16T11:59:17.404849Z"
    }
   },
   "outputs": [
    {
     "data": {
      "text/html": [
       "<div>\n",
       "<style scoped>\n",
       "    .dataframe tbody tr th:only-of-type {\n",
       "        vertical-align: middle;\n",
       "    }\n",
       "\n",
       "    .dataframe tbody tr th {\n",
       "        vertical-align: top;\n",
       "    }\n",
       "\n",
       "    .dataframe thead th {\n",
       "        text-align: right;\n",
       "    }\n",
       "</style>\n",
       "<table border=\"1\" class=\"dataframe\">\n",
       "  <thead>\n",
       "    <tr style=\"text-align: right;\">\n",
       "      <th>label</th>\n",
       "      <th>0</th>\n",
       "      <th>1</th>\n",
       "      <th>2</th>\n",
       "      <th>3</th>\n",
       "      <th>4</th>\n",
       "      <th>5</th>\n",
       "      <th>6</th>\n",
       "      <th>7</th>\n",
       "      <th>8</th>\n",
       "      <th>9</th>\n",
       "    </tr>\n",
       "    <tr>\n",
       "      <th>predict</th>\n",
       "      <th></th>\n",
       "      <th></th>\n",
       "      <th></th>\n",
       "      <th></th>\n",
       "      <th></th>\n",
       "      <th></th>\n",
       "      <th></th>\n",
       "      <th></th>\n",
       "      <th></th>\n",
       "      <th></th>\n",
       "    </tr>\n",
       "  </thead>\n",
       "  <tbody>\n",
       "    <tr>\n",
       "      <th>0</th>\n",
       "      <td>4067</td>\n",
       "      <td>0</td>\n",
       "      <td>17</td>\n",
       "      <td>3</td>\n",
       "      <td>2</td>\n",
       "      <td>12</td>\n",
       "      <td>16</td>\n",
       "      <td>3</td>\n",
       "      <td>7</td>\n",
       "      <td>8</td>\n",
       "    </tr>\n",
       "    <tr>\n",
       "      <th>1</th>\n",
       "      <td>1</td>\n",
       "      <td>4645</td>\n",
       "      <td>26</td>\n",
       "      <td>11</td>\n",
       "      <td>26</td>\n",
       "      <td>6</td>\n",
       "      <td>7</td>\n",
       "      <td>28</td>\n",
       "      <td>24</td>\n",
       "      <td>4</td>\n",
       "    </tr>\n",
       "    <tr>\n",
       "      <th>2</th>\n",
       "      <td>9</td>\n",
       "      <td>6</td>\n",
       "      <td>4015</td>\n",
       "      <td>35</td>\n",
       "      <td>5</td>\n",
       "      <td>2</td>\n",
       "      <td>3</td>\n",
       "      <td>25</td>\n",
       "      <td>10</td>\n",
       "      <td>11</td>\n",
       "    </tr>\n",
       "    <tr>\n",
       "      <th>3</th>\n",
       "      <td>4</td>\n",
       "      <td>4</td>\n",
       "      <td>17</td>\n",
       "      <td>4085</td>\n",
       "      <td>1</td>\n",
       "      <td>44</td>\n",
       "      <td>1</td>\n",
       "      <td>2</td>\n",
       "      <td>47</td>\n",
       "      <td>26</td>\n",
       "    </tr>\n",
       "    <tr>\n",
       "      <th>4</th>\n",
       "      <td>2</td>\n",
       "      <td>8</td>\n",
       "      <td>5</td>\n",
       "      <td>3</td>\n",
       "      <td>3849</td>\n",
       "      <td>3</td>\n",
       "      <td>3</td>\n",
       "      <td>29</td>\n",
       "      <td>13</td>\n",
       "      <td>74</td>\n",
       "    </tr>\n",
       "    <tr>\n",
       "      <th>5</th>\n",
       "      <td>12</td>\n",
       "      <td>0</td>\n",
       "      <td>1</td>\n",
       "      <td>86</td>\n",
       "      <td>1</td>\n",
       "      <td>3654</td>\n",
       "      <td>22</td>\n",
       "      <td>2</td>\n",
       "      <td>62</td>\n",
       "      <td>11</td>\n",
       "    </tr>\n",
       "    <tr>\n",
       "      <th>6</th>\n",
       "      <td>28</td>\n",
       "      <td>2</td>\n",
       "      <td>11</td>\n",
       "      <td>4</td>\n",
       "      <td>29</td>\n",
       "      <td>25</td>\n",
       "      <td>4076</td>\n",
       "      <td>2</td>\n",
       "      <td>20</td>\n",
       "      <td>6</td>\n",
       "    </tr>\n",
       "    <tr>\n",
       "      <th>7</th>\n",
       "      <td>2</td>\n",
       "      <td>11</td>\n",
       "      <td>43</td>\n",
       "      <td>29</td>\n",
       "      <td>7</td>\n",
       "      <td>3</td>\n",
       "      <td>1</td>\n",
       "      <td>4208</td>\n",
       "      <td>11</td>\n",
       "      <td>73</td>\n",
       "    </tr>\n",
       "    <tr>\n",
       "      <th>8</th>\n",
       "      <td>4</td>\n",
       "      <td>2</td>\n",
       "      <td>32</td>\n",
       "      <td>61</td>\n",
       "      <td>3</td>\n",
       "      <td>26</td>\n",
       "      <td>8</td>\n",
       "      <td>3</td>\n",
       "      <td>3838</td>\n",
       "      <td>12</td>\n",
       "    </tr>\n",
       "    <tr>\n",
       "      <th>9</th>\n",
       "      <td>3</td>\n",
       "      <td>6</td>\n",
       "      <td>10</td>\n",
       "      <td>34</td>\n",
       "      <td>149</td>\n",
       "      <td>20</td>\n",
       "      <td>0</td>\n",
       "      <td>99</td>\n",
       "      <td>31</td>\n",
       "      <td>3963</td>\n",
       "    </tr>\n",
       "  </tbody>\n",
       "</table>\n",
       "</div>"
      ],
      "text/plain": [
       "label       0     1     2     3     4     5     6     7     8     9\n",
       "predict                                                            \n",
       "0        4067     0    17     3     2    12    16     3     7     8\n",
       "1           1  4645    26    11    26     6     7    28    24     4\n",
       "2           9     6  4015    35     5     2     3    25    10    11\n",
       "3           4     4    17  4085     1    44     1     2    47    26\n",
       "4           2     8     5     3  3849     3     3    29    13    74\n",
       "5          12     0     1    86     1  3654    22     2    62    11\n",
       "6          28     2    11     4    29    25  4076     2    20     6\n",
       "7           2    11    43    29     7     3     1  4208    11    73\n",
       "8           4     2    32    61     3    26     8     3  3838    12\n",
       "9           3     6    10    34   149    20     0    99    31  3963"
      ]
     },
     "execution_count": 18,
     "metadata": {},
     "output_type": "execute_result"
    }
   ],
   "source": [
    "pd.crosstab(Z.predict,Z.label)"
   ]
  },
  {
   "cell_type": "code",
   "execution_count": 19,
   "metadata": {
    "ExecuteTime": {
     "end_time": "2019-07-16T11:59:17.482924Z",
     "start_time": "2019-07-16T11:59:17.467376Z"
    }
   },
   "outputs": [
    {
     "data": {
      "text/plain": [
       "96.19047619047619"
      ]
     },
     "execution_count": 19,
     "metadata": {},
     "output_type": "execute_result"
    }
   ],
   "source": [
    "sum(Z.predict == Z.label)*100 / Z.count()[0]"
   ]
  },
  {
   "cell_type": "code",
   "execution_count": 20,
   "metadata": {
    "ExecuteTime": {
     "end_time": "2019-07-16T11:59:17.498565Z",
     "start_time": "2019-07-16T11:59:17.482924Z"
    }
   },
   "outputs": [
    {
     "data": {
      "text/plain": [
       "42000"
      ]
     },
     "execution_count": 20,
     "metadata": {},
     "output_type": "execute_result"
    }
   ],
   "source": [
    "Z.count()[0]"
   ]
  },
  {
   "cell_type": "code",
   "execution_count": 36,
   "metadata": {
    "ExecuteTime": {
     "end_time": "2019-07-23T14:05:53.528673Z",
     "start_time": "2019-07-23T14:05:53.513030Z"
    }
   },
   "outputs": [],
   "source": [
    "from sklearn import neighbors\n",
    "\n",
    "def calculKNNDonnees(X_train, X_test, y_train, y_test, voisins = 1):\n",
    "    t0 = time.time()\n",
    "\n",
    "    clf = neighbors.KNeighborsClassifier(voisins)\n",
    "    clf.fit(X_train, y_train)\n",
    "\n",
    "    Z = pd.DataFrame(clf.predict(X_test),columns=[\"predict\"])\n",
    "    Z[\"label\"] = y_test\n",
    "    t1 = time.time()\n",
    "    print('Exécution  :'+('%.2fs' % (t1 - t0)).lstrip('0'))\n",
    "    return Z"
   ]
  },
  {
   "cell_type": "code",
   "execution_count": 22,
   "metadata": {
    "ExecuteTime": {
     "end_time": "2019-07-16T12:05:59.378993Z",
     "start_time": "2019-07-16T11:59:17.514170Z"
    }
   },
   "outputs": [
    {
     "name": "stdout",
     "output_type": "stream",
     "text": [
      "Exécution  :14.61s\n",
      "Exécution  :61.93s\n",
      "Exécution  :24.26s\n",
      "Exécution  :120.49s\n",
      "Exécution  :27.73s\n",
      "Exécution  :152.80s\n"
     ]
    }
   ],
   "source": [
    "predP50 = calculKNNDonnees(donneesP50.iloc[:,:169],donneesP,donneesP50.label,label)\n",
    "predR50 = calculKNNDonnees(donneesR50.iloc[:,:784],donneesR,donneesR50.label,label)\n",
    "predP100 = calculKNNDonnees(donneesP100.iloc[:,:169],donneesP,donneesP100.label,label)\n",
    "predR100 = calculKNNDonnees(donneesR100.iloc[:,:784],donneesR,donneesR100.label,label)\n",
    "predP150 = calculKNNDonnees(donneesP150.iloc[:,:169],donneesP,donneesP150.label,label)\n",
    "predR150 = calculKNNDonnees(donneesR150.iloc[:,:784],donneesR,donneesR150.label,label)"
   ]
  },
  {
   "cell_type": "code",
   "execution_count": 40,
   "metadata": {
    "ExecuteTime": {
     "end_time": "2019-07-23T14:10:33.942305Z",
     "start_time": "2019-07-23T14:10:33.911219Z"
    }
   },
   "outputs": [],
   "source": [
    "from sklearn.metrics import accuracy_score\n",
    "\n",
    "def affichePrecissionModel(p):\n",
    "    print(pd.crosstab(p.predict,p.label))\n",
    "    print('--'*30)\n",
    "    print(round((p.predict==p.label).sum() * 100 / p.label.count(),2))\n",
    "    print(accuracy_score(p.predict,p.label)*100)\n",
    "    print(accuracy_score(p.predict,p.label, normalize=False), p.label.count(), \n",
    "          accuracy_score(p.predict,p.label, normalize=False)*100/ p.label.count())    "
   ]
  },
  {
   "cell_type": "code",
   "execution_count": 24,
   "metadata": {
    "ExecuteTime": {
     "end_time": "2019-07-16T12:05:59.457055Z",
     "start_time": "2019-07-16T12:05:59.394541Z"
    }
   },
   "outputs": [
    {
     "name": "stdout",
     "output_type": "stream",
     "text": [
      "label       0     1     2     3     4     5     6     7     8     9\n",
      "predict                                                            \n",
      "0        4067     0    17     3     2    12    16     3     7     8\n",
      "1           1  4645    26    11    26     6     7    28    24     4\n",
      "2           9     6  4015    35     5     2     3    25    10    11\n",
      "3           4     4    17  4085     1    44     1     2    47    26\n",
      "4           2     8     5     3  3849     3     3    29    13    74\n",
      "5          12     0     1    86     1  3654    22     2    62    11\n",
      "6          28     2    11     4    29    25  4076     2    20     6\n",
      "7           2    11    43    29     7     3     1  4208    11    73\n",
      "8           4     2    32    61     3    26     8     3  3838    12\n",
      "9           3     6    10    34   149    20     0    99    31  3963\n",
      "------------------------------------------------------------\n",
      "96.19\n",
      "96.19047619047619\n",
      "40400 42000 96.19047619047619\n"
     ]
    }
   ],
   "source": [
    "affichePrecissionModel(predP50)"
   ]
  },
  {
   "cell_type": "code",
   "execution_count": 25,
   "metadata": {
    "ExecuteTime": {
     "end_time": "2019-07-16T12:05:59.519585Z",
     "start_time": "2019-07-16T12:05:59.457055Z"
    }
   },
   "outputs": [
    {
     "name": "stdout",
     "output_type": "stream",
     "text": [
      "label       0     1     2     3     4     5     6     7     8     9\n",
      "predict                                                            \n",
      "0        4063     0    16     3     3     5    20     3    10     8\n",
      "1           0  4648    33    10    31     5     5    35    20    12\n",
      "2          11     5  4022    35     0     1     3    27     9     4\n",
      "3           3     7    18  4099     0    53     0     1    50    34\n",
      "4           3     6     3     1  3850     3     2    24    10    84\n",
      "5          10     1     1    72     1  3642    20     1    68     8\n",
      "6          30     6     5     4    22    32  4078     2    16     2\n",
      "7           1     5    36    15     7     6     0  4206    10    72\n",
      "8           6     3    34    73     9    30     9     4  3850    18\n",
      "9           5     3     9    39   149    18     0    98    20  3946\n",
      "------------------------------------------------------------\n",
      "96.2\n",
      "96.2\n",
      "40404 42000 96.2\n"
     ]
    }
   ],
   "source": [
    "affichePrecissionModel(predR50)"
   ]
  },
  {
   "cell_type": "code",
   "execution_count": 26,
   "metadata": {
    "ExecuteTime": {
     "end_time": "2019-07-16T12:05:59.582070Z",
     "start_time": "2019-07-16T12:05:59.519585Z"
    }
   },
   "outputs": [
    {
     "name": "stdout",
     "output_type": "stream",
     "text": [
      "label       0     1     2     3     4     5     6     7     8     9\n",
      "predict                                                            \n",
      "0        4092     0    13     2     2     6     8     1     4     9\n",
      "1           0  4664    23     5    29     3     4    32    16    10\n",
      "2           6     4  4067    26     2     0     2    23     8     6\n",
      "3           3     2     8  4181     1    34     0     2    29    15\n",
      "4           2     5     5     3  3920     2     2    15     9    52\n",
      "5           4     1     3    56     0  3695    13     1    45     4\n",
      "6          16     3     2     2    14    24  4105     0    14     1\n",
      "7           2     2    33    17     4     3     1  4261     7    65\n",
      "8           4     2    16    35     1    15     2     1  3920    10\n",
      "9           3     1     7    24    99    13     0    65    11  4016\n",
      "------------------------------------------------------------\n",
      "97.43\n",
      "97.43095238095239\n",
      "40921 42000 97.43095238095238\n"
     ]
    }
   ],
   "source": [
    "affichePrecissionModel(predP100)"
   ]
  },
  {
   "cell_type": "code",
   "execution_count": 27,
   "metadata": {
    "ExecuteTime": {
     "end_time": "2019-07-16T12:05:59.644561Z",
     "start_time": "2019-07-16T12:05:59.582070Z"
    }
   },
   "outputs": [
    {
     "name": "stdout",
     "output_type": "stream",
     "text": [
      "label       0     1     2     3     4     5     6     7     8     9\n",
      "predict                                                            \n",
      "0        4097     0    14     1     3     4    15     0     6     7\n",
      "1           0  4666    17     5    25     2     4    24    14     6\n",
      "2           3     3  4074    23     1     0     2    20     6     6\n",
      "3           3     3    11  4188     0    38     1     1    30    15\n",
      "4           2     2     1     1  3925     1     4    11     7    48\n",
      "5           4     1     6    58     2  3701    11     2    44     6\n",
      "6          14     1     2     0    14    25  4096     0    17     2\n",
      "7           3     5    29    13    10     4     0  4285     5    61\n",
      "8           1     2    17    41     2     9     4     0  3912     9\n",
      "9           5     1     6    21    90    11     0    58    22  4028\n",
      "------------------------------------------------------------\n",
      "97.55\n",
      "97.55238095238096\n",
      "40972 42000 97.55238095238096\n"
     ]
    }
   ],
   "source": [
    "affichePrecissionModel(predR100)"
   ]
  },
  {
   "cell_type": "code",
   "execution_count": 28,
   "metadata": {
    "ExecuteTime": {
     "end_time": "2019-07-16T12:05:59.707004Z",
     "start_time": "2019-07-16T12:05:59.644561Z"
    }
   },
   "outputs": [
    {
     "name": "stdout",
     "output_type": "stream",
     "text": [
      "label       0     1     2     3     4     5     6     7     8     9\n",
      "predict                                                            \n",
      "0        4100     0    11     1     2     6     4     0     3     5\n",
      "1           0  4668    17     1    16     3     3    24    14     5\n",
      "2           7     2  4080    24     1     0     2    15     6     2\n",
      "3           2     0    12  4230     1    27     0     1    24    10\n",
      "4           2     1     2     1  3963     0     3    13     7    56\n",
      "5           7     0     0    41     1  3722    10     1    33     9\n",
      "6          10     2     2     1    11    21  4112     0    11     1\n",
      "7           1     2    29     9     3     3     0  4296     6    46\n",
      "8           1     3    19    25     2     5     3     0  3949    10\n",
      "9           2     6     5    18    72     8     0    51    10  4044\n",
      "------------------------------------------------------------\n",
      "98.01\n",
      "98.00952380952381\n",
      "41164 42000 98.00952380952381\n"
     ]
    }
   ],
   "source": [
    "affichePrecissionModel(predP150)"
   ]
  },
  {
   "cell_type": "code",
   "execution_count": 29,
   "metadata": {
    "ExecuteTime": {
     "end_time": "2019-07-16T12:05:59.769495Z",
     "start_time": "2019-07-16T12:05:59.707004Z"
    }
   },
   "outputs": [
    {
     "name": "stdout",
     "output_type": "stream",
     "text": [
      "label       0     1     2     3     4     5     6     7     8     9\n",
      "predict                                                            \n",
      "0        4103     0    12     2     2     4     8     1     4     6\n",
      "1           0  4666    16     4    17     1     4    27    15     2\n",
      "2           6     1  4086    20     0     0     2    12     6     4\n",
      "3           1     3    10  4206     0    18     0     1    24    15\n",
      "4           1     1     4     0  3975     1     4     8     8    43\n",
      "5           4     0     4    55     1  3733    12     0    29     7\n",
      "6          13     3     0     0    10    16  4102     0     7     3\n",
      "7           0     3    20    18     3     0     1  4295     3    51\n",
      "8           0     2    20    31     1     9     4     0  3950     8\n",
      "9           4     5     5    15    63    13     0    57    17  4049\n",
      "------------------------------------------------------------\n",
      "98.01\n",
      "98.01190476190477\n",
      "41165 42000 98.01190476190476\n"
     ]
    }
   ],
   "source": [
    "affichePrecissionModel(predR150)"
   ]
  },
  {
   "cell_type": "code",
   "execution_count": 30,
   "metadata": {
    "ExecuteTime": {
     "end_time": "2019-07-16T12:05:59.816350Z",
     "start_time": "2019-07-16T12:05:59.769495Z"
    }
   },
   "outputs": [
    {
     "data": {
      "text/html": [
       "<div>\n",
       "<style scoped>\n",
       "    .dataframe tbody tr th:only-of-type {\n",
       "        vertical-align: middle;\n",
       "    }\n",
       "\n",
       "    .dataframe tbody tr th {\n",
       "        vertical-align: top;\n",
       "    }\n",
       "\n",
       "    .dataframe thead th {\n",
       "        text-align: right;\n",
       "    }\n",
       "</style>\n",
       "<table border=\"1\" class=\"dataframe\">\n",
       "  <thead>\n",
       "    <tr style=\"text-align: right;\">\n",
       "      <th>label</th>\n",
       "      <th>0</th>\n",
       "      <th>1</th>\n",
       "      <th>2</th>\n",
       "      <th>3</th>\n",
       "      <th>4</th>\n",
       "      <th>5</th>\n",
       "      <th>6</th>\n",
       "      <th>7</th>\n",
       "      <th>8</th>\n",
       "      <th>9</th>\n",
       "    </tr>\n",
       "    <tr>\n",
       "      <th>predict</th>\n",
       "      <th></th>\n",
       "      <th></th>\n",
       "      <th></th>\n",
       "      <th></th>\n",
       "      <th></th>\n",
       "      <th></th>\n",
       "      <th></th>\n",
       "      <th></th>\n",
       "      <th></th>\n",
       "      <th></th>\n",
       "    </tr>\n",
       "  </thead>\n",
       "  <tbody>\n",
       "    <tr>\n",
       "      <th>0</th>\n",
       "      <td>4103</td>\n",
       "      <td>0</td>\n",
       "      <td>12</td>\n",
       "      <td>2</td>\n",
       "      <td>2</td>\n",
       "      <td>4</td>\n",
       "      <td>8</td>\n",
       "      <td>1</td>\n",
       "      <td>4</td>\n",
       "      <td>6</td>\n",
       "    </tr>\n",
       "    <tr>\n",
       "      <th>1</th>\n",
       "      <td>0</td>\n",
       "      <td>4666</td>\n",
       "      <td>16</td>\n",
       "      <td>4</td>\n",
       "      <td>17</td>\n",
       "      <td>1</td>\n",
       "      <td>4</td>\n",
       "      <td>27</td>\n",
       "      <td>15</td>\n",
       "      <td>2</td>\n",
       "    </tr>\n",
       "    <tr>\n",
       "      <th>2</th>\n",
       "      <td>6</td>\n",
       "      <td>1</td>\n",
       "      <td>4086</td>\n",
       "      <td>20</td>\n",
       "      <td>0</td>\n",
       "      <td>0</td>\n",
       "      <td>2</td>\n",
       "      <td>12</td>\n",
       "      <td>6</td>\n",
       "      <td>4</td>\n",
       "    </tr>\n",
       "    <tr>\n",
       "      <th>3</th>\n",
       "      <td>1</td>\n",
       "      <td>3</td>\n",
       "      <td>10</td>\n",
       "      <td>4206</td>\n",
       "      <td>0</td>\n",
       "      <td>18</td>\n",
       "      <td>0</td>\n",
       "      <td>1</td>\n",
       "      <td>24</td>\n",
       "      <td>15</td>\n",
       "    </tr>\n",
       "    <tr>\n",
       "      <th>4</th>\n",
       "      <td>1</td>\n",
       "      <td>1</td>\n",
       "      <td>4</td>\n",
       "      <td>0</td>\n",
       "      <td>3975</td>\n",
       "      <td>1</td>\n",
       "      <td>4</td>\n",
       "      <td>8</td>\n",
       "      <td>8</td>\n",
       "      <td>43</td>\n",
       "    </tr>\n",
       "    <tr>\n",
       "      <th>5</th>\n",
       "      <td>4</td>\n",
       "      <td>0</td>\n",
       "      <td>4</td>\n",
       "      <td>55</td>\n",
       "      <td>1</td>\n",
       "      <td>3733</td>\n",
       "      <td>12</td>\n",
       "      <td>0</td>\n",
       "      <td>29</td>\n",
       "      <td>7</td>\n",
       "    </tr>\n",
       "    <tr>\n",
       "      <th>6</th>\n",
       "      <td>13</td>\n",
       "      <td>3</td>\n",
       "      <td>0</td>\n",
       "      <td>0</td>\n",
       "      <td>10</td>\n",
       "      <td>16</td>\n",
       "      <td>4102</td>\n",
       "      <td>0</td>\n",
       "      <td>7</td>\n",
       "      <td>3</td>\n",
       "    </tr>\n",
       "    <tr>\n",
       "      <th>7</th>\n",
       "      <td>0</td>\n",
       "      <td>3</td>\n",
       "      <td>20</td>\n",
       "      <td>18</td>\n",
       "      <td>3</td>\n",
       "      <td>0</td>\n",
       "      <td>1</td>\n",
       "      <td>4295</td>\n",
       "      <td>3</td>\n",
       "      <td>51</td>\n",
       "    </tr>\n",
       "    <tr>\n",
       "      <th>8</th>\n",
       "      <td>0</td>\n",
       "      <td>2</td>\n",
       "      <td>20</td>\n",
       "      <td>31</td>\n",
       "      <td>1</td>\n",
       "      <td>9</td>\n",
       "      <td>4</td>\n",
       "      <td>0</td>\n",
       "      <td>3950</td>\n",
       "      <td>8</td>\n",
       "    </tr>\n",
       "    <tr>\n",
       "      <th>9</th>\n",
       "      <td>4</td>\n",
       "      <td>5</td>\n",
       "      <td>5</td>\n",
       "      <td>15</td>\n",
       "      <td>63</td>\n",
       "      <td>13</td>\n",
       "      <td>0</td>\n",
       "      <td>57</td>\n",
       "      <td>17</td>\n",
       "      <td>4049</td>\n",
       "    </tr>\n",
       "  </tbody>\n",
       "</table>\n",
       "</div>"
      ],
      "text/plain": [
       "label       0     1     2     3     4     5     6     7     8     9\n",
       "predict                                                            \n",
       "0        4103     0    12     2     2     4     8     1     4     6\n",
       "1           0  4666    16     4    17     1     4    27    15     2\n",
       "2           6     1  4086    20     0     0     2    12     6     4\n",
       "3           1     3    10  4206     0    18     0     1    24    15\n",
       "4           1     1     4     0  3975     1     4     8     8    43\n",
       "5           4     0     4    55     1  3733    12     0    29     7\n",
       "6          13     3     0     0    10    16  4102     0     7     3\n",
       "7           0     3    20    18     3     0     1  4295     3    51\n",
       "8           0     2    20    31     1     9     4     0  3950     8\n",
       "9           4     5     5    15    63    13     0    57    17  4049"
      ]
     },
     "execution_count": 30,
     "metadata": {},
     "output_type": "execute_result"
    }
   ],
   "source": [
    "pd.crosstab(predR150.predict,predR150.label)"
   ]
  },
  {
   "cell_type": "code",
   "execution_count": 31,
   "metadata": {
    "ExecuteTime": {
     "end_time": "2019-07-16T12:05:59.831936Z",
     "start_time": "2019-07-16T12:05:59.816350Z"
    }
   },
   "outputs": [
    {
     "data": {
      "text/plain": [
       "98.01"
      ]
     },
     "execution_count": 31,
     "metadata": {},
     "output_type": "execute_result"
    }
   ],
   "source": [
    "round((predR150.predict==predR150.label).sum() * 100 / predR150.label.count(),2)"
   ]
  },
  {
   "cell_type": "code",
   "execution_count": null,
   "metadata": {},
   "outputs": [],
   "source": []
  },
  {
   "cell_type": "code",
   "execution_count": null,
   "metadata": {},
   "outputs": [],
   "source": []
  }
 ],
 "metadata": {
  "kernelspec": {
   "display_name": "Python 3 (ipykernel)",
   "language": "python",
   "name": "python3"
  },
  "language_info": {
   "codemirror_mode": {
    "name": "ipython",
    "version": 3
   },
   "file_extension": ".py",
   "mimetype": "text/x-python",
   "name": "python",
   "nbconvert_exporter": "python",
   "pygments_lexer": "ipython3",
   "version": "3.10.15"
  },
  "toc": {
   "base_numbering": 1,
   "nav_menu": {},
   "number_sections": true,
   "sideBar": true,
   "skip_h1_title": false,
   "title_cell": "Table of Contents",
   "title_sidebar": "Contents",
   "toc_cell": true,
   "toc_position": {},
   "toc_section_display": true,
   "toc_window_display": false
  }
 },
 "nbformat": 4,
 "nbformat_minor": 4
}
