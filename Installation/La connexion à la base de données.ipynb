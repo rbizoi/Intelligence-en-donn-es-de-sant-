{
 "cells": [
  {
   "cell_type": "code",
   "execution_count": 1,
   "id": "8b12b114",
   "metadata": {
    "ExecuteTime": {
     "end_time": "2021-11-25T11:32:32.216788Z",
     "start_time": "2021-11-25T11:32:31.437802Z"
    }
   },
   "outputs": [
    {
     "name": "stdout",
     "output_type": "stream",
     "text": [
      "utilisateur : stag26\n",
      "connexion   : 51.91.76.248:15440/coursdb\n",
      "password    : Phoenix#Icar79\n"
     ]
    }
   ],
   "source": [
    "import pandas as pd \n",
    "import cx_Oracle\n",
    "import sys\n",
    "import os\n",
    "# On Linux this must be None.\n",
    "# Instead, the Oracle environment must be set before Python starts.\n",
    "instant_client_dir = None\n",
    "\n",
    "if sys.platform.startswith(\"win\"):\n",
    "    instant_client_dir = r\"C:\\instantclient_21_3\"\n",
    "\n",
    "# On macOS (Intel x86) set the directory to your Instant Client directory\n",
    "if sys.platform.startswith(\"darwin\"):\n",
    "    instant_client_dir = os.environ.get(\"HOME\")+\"/instantclient_19_8\"\n",
    "\n",
    "# This can be called at most once per process.\n",
    "if instant_client_dir is not None:\n",
    "    cx_Oracle.init_oracle_client(lib_dir=instant_client_dir)\n",
    "\n",
    "utilisateur = os.environ.get(\"PYTHON_USER\", \"stag26\")\n",
    "\n",
    "connexion = os.environ.get(\"PYTHON_CONNECT_STRING\", \"51.91.76.248:15440/coursdb\")\n",
    "\n",
    "password = os.environ.get(\"PYTHON_PASSWORD\", \"Phoenix#Icar79\")\n",
    "\n",
    "print('utilisateur :',utilisateur)\n",
    "print('connexion   :',connexion)\n",
    "print('password    :',password)"
   ]
  },
  {
   "cell_type": "code",
   "execution_count": 2,
   "id": "e15e7d76",
   "metadata": {
    "ExecuteTime": {
     "end_time": "2021-11-25T11:32:34.083031Z",
     "start_time": "2021-11-25T11:32:33.744022Z"
    }
   },
   "outputs": [
    {
     "name": "stdout",
     "output_type": "stream",
     "text": [
      "Database version: 18.0.0.0.0\n"
     ]
    }
   ],
   "source": [
    "connection = cx_Oracle.connect(utilisateur, password, connexion)"
   ]
  },
  {
   "cell_type": "code",
   "execution_count": 19,
   "id": "9447411b",
   "metadata": {
    "ExecuteTime": {
     "end_time": "2021-11-25T11:39:15.598949Z",
     "start_time": "2021-11-25T11:39:15.581995Z"
    }
   },
   "outputs": [
    {
     "name": "stdout",
     "output_type": "stream",
     "text": [
      "Version base de données : 18.0.0.0.0\n",
      "Utilisateur             : stag26\n",
      "Page de code            : UTF-8\n",
      "Chaine de connexion     : 51.91.76.248:15440/coursdb\n"
     ]
    }
   ],
   "source": [
    "print(f\"Version base de données : {connection.version}\\n\"+\n",
    "      f\"Utilisateur             : {connection.username}\\n\"+\n",
    "      f\"Page de code            : {connection.encoding}\\n\"+\n",
    "      f\"Chaine de connexion     : {connection.dsn}\")"
   ]
  },
  {
   "cell_type": "code",
   "execution_count": 20,
   "id": "final-travel",
   "metadata": {
    "ExecuteTime": {
     "end_time": "2021-11-25T11:39:32.147895Z",
     "start_time": "2021-11-25T11:39:31.917018Z"
    }
   },
   "outputs": [
    {
     "data": {
      "text/html": [
       "<div>\n",
       "<style scoped>\n",
       "    .dataframe tbody tr th:only-of-type {\n",
       "        vertical-align: middle;\n",
       "    }\n",
       "\n",
       "    .dataframe tbody tr th {\n",
       "        vertical-align: top;\n",
       "    }\n",
       "\n",
       "    .dataframe thead th {\n",
       "        text-align: right;\n",
       "    }\n",
       "</style>\n",
       "<table border=\"1\" class=\"dataframe\">\n",
       "  <thead>\n",
       "    <tr style=\"text-align: right;\">\n",
       "      <th></th>\n",
       "      <th>CODE_CATEGORIE</th>\n",
       "      <th>NOM_CATEGORIE</th>\n",
       "      <th>DESCRIPTION</th>\n",
       "    </tr>\n",
       "  </thead>\n",
       "  <tbody>\n",
       "    <tr>\n",
       "      <th>0</th>\n",
       "      <td>1</td>\n",
       "      <td>Boissons</td>\n",
       "      <td>Boissons, cafés, thés, bières</td>\n",
       "    </tr>\n",
       "    <tr>\n",
       "      <th>1</th>\n",
       "      <td>2</td>\n",
       "      <td>Condiments</td>\n",
       "      <td>Sauces, assaisonnements et épices</td>\n",
       "    </tr>\n",
       "    <tr>\n",
       "      <th>2</th>\n",
       "      <td>3</td>\n",
       "      <td>Desserts</td>\n",
       "      <td>Desserts et friandises</td>\n",
       "    </tr>\n",
       "    <tr>\n",
       "      <th>3</th>\n",
       "      <td>4</td>\n",
       "      <td>Produits laitiers</td>\n",
       "      <td>Fromages</td>\n",
       "    </tr>\n",
       "    <tr>\n",
       "      <th>4</th>\n",
       "      <td>5</td>\n",
       "      <td>Pâtes et céréales</td>\n",
       "      <td>Pains, biscuits, pâtes et céréales</td>\n",
       "    </tr>\n",
       "    <tr>\n",
       "      <th>5</th>\n",
       "      <td>6</td>\n",
       "      <td>Viandes</td>\n",
       "      <td>Viandes préparées</td>\n",
       "    </tr>\n",
       "    <tr>\n",
       "      <th>6</th>\n",
       "      <td>7</td>\n",
       "      <td>Produits secs</td>\n",
       "      <td>Fruits secs, raisins, autres</td>\n",
       "    </tr>\n",
       "    <tr>\n",
       "      <th>7</th>\n",
       "      <td>8</td>\n",
       "      <td>Poissons et fruits de mer</td>\n",
       "      <td>Poissons, fruits de mer, escargots</td>\n",
       "    </tr>\n",
       "    <tr>\n",
       "      <th>8</th>\n",
       "      <td>9</td>\n",
       "      <td>Conserves</td>\n",
       "      <td>Fruits, légumes en conserve et confitures</td>\n",
       "    </tr>\n",
       "    <tr>\n",
       "      <th>9</th>\n",
       "      <td>10</td>\n",
       "      <td>Viande en conserve</td>\n",
       "      <td>Viande en conserve</td>\n",
       "    </tr>\n",
       "  </tbody>\n",
       "</table>\n",
       "</div>"
      ],
      "text/plain": [
       "   CODE_CATEGORIE              NOM_CATEGORIE  \\\n",
       "0               1                   Boissons   \n",
       "1               2                 Condiments   \n",
       "2               3                   Desserts   \n",
       "3               4          Produits laitiers   \n",
       "4               5          Pâtes et céréales   \n",
       "5               6                    Viandes   \n",
       "6               7              Produits secs   \n",
       "7               8  Poissons et fruits de mer   \n",
       "8               9                  Conserves   \n",
       "9              10         Viande en conserve   \n",
       "\n",
       "                                 DESCRIPTION  \n",
       "0              Boissons, cafés, thés, bières  \n",
       "1          Sauces, assaisonnements et épices  \n",
       "2                     Desserts et friandises  \n",
       "3                                   Fromages  \n",
       "4         Pains, biscuits, pâtes et céréales  \n",
       "5                          Viandes préparées  \n",
       "6               Fruits secs, raisins, autres  \n",
       "7         Poissons, fruits de mer, escargots  \n",
       "8  Fruits, légumes en conserve et confitures  \n",
       "9                         Viande en conserve  "
      ]
     },
     "execution_count": 20,
     "metadata": {},
     "output_type": "execute_result"
    }
   ],
   "source": [
    "query = \"\"\"\n",
    "SELECT\n",
    "    *   \n",
    "FROM\n",
    "    categories\n",
    "\"\"\"\n",
    "donnees = pd.read_sql_query(query, connection)\n",
    "donnees"
   ]
  },
  {
   "cell_type": "code",
   "execution_count": null,
   "id": "fitted-station",
   "metadata": {},
   "outputs": [],
   "source": []
  }
 ],
 "metadata": {
  "kernelspec": {
   "display_name": "Python 3",
   "language": "python",
   "name": "python3"
  },
  "language_info": {
   "codemirror_mode": {
    "name": "ipython",
    "version": 3
   },
   "file_extension": ".py",
   "mimetype": "text/x-python",
   "name": "python",
   "nbconvert_exporter": "python",
   "pygments_lexer": "ipython3",
   "version": "3.8.8"
  },
  "toc": {
   "base_numbering": 1,
   "nav_menu": {},
   "number_sections": true,
   "sideBar": true,
   "skip_h1_title": false,
   "title_cell": "Table of Contents",
   "title_sidebar": "Contents",
   "toc_cell": false,
   "toc_position": {},
   "toc_section_display": true,
   "toc_window_display": false
  }
 },
 "nbformat": 4,
 "nbformat_minor": 5
}
