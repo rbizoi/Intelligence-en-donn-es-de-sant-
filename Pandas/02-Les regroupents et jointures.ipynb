{
 "cells": [
  {
   "cell_type": "markdown",
   "metadata": {
    "toc": true
   },
   "source": [
    "<h1>Table of Contents<span class=\"tocSkip\"></span></h1>\n",
    "<div class=\"toc\"><ul class=\"toc-item\"><li><span><a href=\"#La-connexion-à-la-base-de-données-Oracle\" data-toc-modified-id=\"La-connexion-à-la-base-de-données-Oracle-1\"><span class=\"toc-item-num\">1&nbsp;&nbsp;</span>La connexion à la base de données Oracle</a></span><ul class=\"toc-item\"><li><span><a href=\"#La-connexion\" data-toc-modified-id=\"La-connexion-1.1\"><span class=\"toc-item-num\">1.1&nbsp;&nbsp;</span>La connexion</a></span></li></ul></li><li><span><a href=\"#Les-regroupements\" data-toc-modified-id=\"Les-regroupements-2\"><span class=\"toc-item-num\">2&nbsp;&nbsp;</span>Les regroupements</a></span><ul class=\"toc-item\"><li><span><a href=\"#La-copy-d'un-DataFrame\" data-toc-modified-id=\"La-copy-d'un-DataFrame-2.1\"><span class=\"toc-item-num\">2.1&nbsp;&nbsp;</span>La copy d'un DataFrame</a></span></li><li><span><a href=\"#Le-groupby\" data-toc-modified-id=\"Le-groupby-2.2\"><span class=\"toc-item-num\">2.2&nbsp;&nbsp;</span>Le groupby</a></span></li><li><span><a href=\"#Assign\" data-toc-modified-id=\"Assign-2.3\"><span class=\"toc-item-num\">2.3&nbsp;&nbsp;</span>Assign</a></span></li></ul></li><li><span><a href=\"#Les-équijointures\" data-toc-modified-id=\"Les-équijointures-3\"><span class=\"toc-item-num\">3&nbsp;&nbsp;</span>Les équijointures</a></span></li><li><span><a href=\"#Les-jointures-externes\" data-toc-modified-id=\"Les-jointures-externes-4\"><span class=\"toc-item-num\">4&nbsp;&nbsp;</span>Les jointures externes</a></span></li></ul></div>"
   ]
  },
  {
   "cell_type": "raw",
   "metadata": {},
   "source": [
    "https://www.sqlalchemy.org\n",
    "!conda install sqlalchemy\n",
    "!pip   install ipython-sql\n",
    "!pip   install sql\n",
    "!conda install cx_Oracle\n",
    "!pip install psycopg2\n",
    "!conda install pymysql"
   ]
  },
  {
   "cell_type": "code",
   "execution_count": 1,
   "metadata": {
    "ExecuteTime": {
     "end_time": "2021-11-26T10:49:32.945000Z",
     "start_time": "2021-11-26T10:49:31.384711Z"
    }
   },
   "outputs": [
    {
     "name": "stdout",
     "output_type": "stream",
     "text": [
      "Populating the interactive namespace from numpy and matplotlib\n"
     ]
    }
   ],
   "source": [
    "import pandas as pd \n",
    "import seaborn as sns\n",
    "import warnings \n",
    "import os\n",
    "import cx_Oracle\n",
    "\n",
    "from datetime import datetime\n",
    "warnings.filterwarnings(action=\"ignore\")\n",
    "\n",
    "%pylab inline\n",
    "%load_ext sql\n",
    "\n",
    "sys.path.append(os.path.abspath('../../.'))\n",
    "from dbconnect import utilisateur,connexion,password\n",
    "\n",
    "%sql oracle+cx_oracle://$utilisateur:$password@$connexion\n",
    "        \n",
    "plt.style.use('seaborn-darkgrid')\n",
    "sns.set(font_scale=3)"
   ]
  },
  {
   "cell_type": "markdown",
   "metadata": {},
   "source": [
    "# La connexion à la base de données Oracle"
   ]
  },
  {
   "cell_type": "markdown",
   "metadata": {},
   "source": [
    "## La connexion"
   ]
  },
  {
   "cell_type": "code",
   "execution_count": 2,
   "metadata": {
    "ExecuteTime": {
     "end_time": "2021-11-26T10:49:33.194821Z",
     "start_time": "2021-11-26T10:49:32.946996Z"
    }
   },
   "outputs": [],
   "source": [
    "connection = cx_Oracle.connect(utilisateur, password, connexion)"
   ]
  },
  {
   "cell_type": "markdown",
   "metadata": {},
   "source": [
    "La lecture d'une table et le chargement dans un DataFrame"
   ]
  },
  {
   "cell_type": "code",
   "execution_count": 3,
   "metadata": {
    "ExecuteTime": {
     "end_time": "2021-11-26T10:49:33.242333Z",
     "start_time": "2021-11-26T10:49:33.196810Z"
    }
   },
   "outputs": [
    {
     "data": {
      "text/html": [
       "<div>\n",
       "<style scoped>\n",
       "    .dataframe tbody tr th:only-of-type {\n",
       "        vertical-align: middle;\n",
       "    }\n",
       "\n",
       "    .dataframe tbody tr th {\n",
       "        vertical-align: top;\n",
       "    }\n",
       "\n",
       "    .dataframe thead th {\n",
       "        text-align: right;\n",
       "    }\n",
       "</style>\n",
       "<table border=\"1\" class=\"dataframe\">\n",
       "  <thead>\n",
       "    <tr style=\"text-align: right;\">\n",
       "      <th></th>\n",
       "      <th>CODE_CATEGORIE</th>\n",
       "      <th>NOM_CATEGORIE</th>\n",
       "      <th>DESCRIPTION</th>\n",
       "    </tr>\n",
       "  </thead>\n",
       "  <tbody>\n",
       "    <tr>\n",
       "      <th>0</th>\n",
       "      <td>1</td>\n",
       "      <td>Boissons</td>\n",
       "      <td>Boissons, cafés, thés, bières</td>\n",
       "    </tr>\n",
       "    <tr>\n",
       "      <th>1</th>\n",
       "      <td>2</td>\n",
       "      <td>Condiments</td>\n",
       "      <td>Sauces, assaisonnements et épices</td>\n",
       "    </tr>\n",
       "    <tr>\n",
       "      <th>2</th>\n",
       "      <td>3</td>\n",
       "      <td>Desserts</td>\n",
       "      <td>Desserts et friandises</td>\n",
       "    </tr>\n",
       "    <tr>\n",
       "      <th>3</th>\n",
       "      <td>4</td>\n",
       "      <td>Produits laitiers</td>\n",
       "      <td>Fromages</td>\n",
       "    </tr>\n",
       "    <tr>\n",
       "      <th>4</th>\n",
       "      <td>5</td>\n",
       "      <td>Pâtes et céréales</td>\n",
       "      <td>Pains, biscuits, pâtes et céréales</td>\n",
       "    </tr>\n",
       "    <tr>\n",
       "      <th>5</th>\n",
       "      <td>6</td>\n",
       "      <td>Viandes</td>\n",
       "      <td>Viandes préparées</td>\n",
       "    </tr>\n",
       "    <tr>\n",
       "      <th>6</th>\n",
       "      <td>7</td>\n",
       "      <td>Produits secs</td>\n",
       "      <td>Fruits secs, raisins, autres</td>\n",
       "    </tr>\n",
       "    <tr>\n",
       "      <th>7</th>\n",
       "      <td>8</td>\n",
       "      <td>Poissons et fruits de mer</td>\n",
       "      <td>Poissons, fruits de mer, escargots</td>\n",
       "    </tr>\n",
       "    <tr>\n",
       "      <th>8</th>\n",
       "      <td>9</td>\n",
       "      <td>Conserves</td>\n",
       "      <td>Fruits, légumes en conserve et confitures</td>\n",
       "    </tr>\n",
       "    <tr>\n",
       "      <th>9</th>\n",
       "      <td>10</td>\n",
       "      <td>Viande en conserve</td>\n",
       "      <td>Viande en conserve</td>\n",
       "    </tr>\n",
       "    <tr>\n",
       "      <th>10</th>\n",
       "      <td>666</td>\n",
       "      <td>AAA</td>\n",
       "      <td>abcd</td>\n",
       "    </tr>\n",
       "    <tr>\n",
       "      <th>11</th>\n",
       "      <td>100000</td>\n",
       "      <td>Fruits et legumes</td>\n",
       "      <td>pas de description</td>\n",
       "    </tr>\n",
       "  </tbody>\n",
       "</table>\n",
       "</div>"
      ],
      "text/plain": [
       "    CODE_CATEGORIE              NOM_CATEGORIE  \\\n",
       "0                1                   Boissons   \n",
       "1                2                 Condiments   \n",
       "2                3                   Desserts   \n",
       "3                4          Produits laitiers   \n",
       "4                5          Pâtes et céréales   \n",
       "5                6                    Viandes   \n",
       "6                7              Produits secs   \n",
       "7                8  Poissons et fruits de mer   \n",
       "8                9                  Conserves   \n",
       "9               10         Viande en conserve   \n",
       "10             666                        AAA   \n",
       "11          100000          Fruits et legumes   \n",
       "\n",
       "                                  DESCRIPTION  \n",
       "0               Boissons, cafés, thés, bières  \n",
       "1           Sauces, assaisonnements et épices  \n",
       "2                      Desserts et friandises  \n",
       "3                                    Fromages  \n",
       "4          Pains, biscuits, pâtes et céréales  \n",
       "5                           Viandes préparées  \n",
       "6                Fruits secs, raisins, autres  \n",
       "7          Poissons, fruits de mer, escargots  \n",
       "8   Fruits, légumes en conserve et confitures  \n",
       "9                          Viande en conserve  \n",
       "10                                       abcd  \n",
       "11                         pas de description  "
      ]
     },
     "execution_count": 3,
     "metadata": {},
     "output_type": "execute_result"
    }
   ],
   "source": [
    "query = \"\"\"\n",
    "            select * \n",
    "            from categories\n",
    "         \"\"\"\n",
    "categories = pd.read_sql_query(query, connection) #df.to_sql('nom', con=engine,if_exists='replace')\n",
    "categories"
   ]
  },
  {
   "cell_type": "markdown",
   "metadata": {},
   "source": [
    "# Les regroupements "
   ]
  },
  {
   "cell_type": "code",
   "execution_count": null,
   "metadata": {
    "ExecuteTime": {
     "start_time": "2021-11-26T10:49:31.391Z"
    }
   },
   "outputs": [],
   "source": [
    "query = \"\"\"\n",
    "            select * \n",
    "            from commandes co \n",
    "                 join details_commandes dc \n",
    "                 on co.no_commande = dc.no_commande\n",
    "            --FETCH FIRST 100 ROWS ONLY\n",
    "         \"\"\"\n",
    "df = pd.read_sql_query(query, connection) #df.to_sql('nom', con=engine,if_exists='replace')\n",
    "df.shape"
   ]
  },
  {
   "cell_type": "markdown",
   "metadata": {},
   "source": [
    "## La copy d'un DataFrame"
   ]
  },
  {
   "cell_type": "code",
   "execution_count": null,
   "metadata": {
    "ExecuteTime": {
     "start_time": "2021-11-26T10:49:31.393Z"
    }
   },
   "outputs": [],
   "source": [
    "det_comm = df.copy()\n",
    "det_comm.columns"
   ]
  },
  {
   "cell_type": "code",
   "execution_count": null,
   "metadata": {
    "ExecuteTime": {
     "start_time": "2021-11-26T10:49:31.395Z"
    }
   },
   "outputs": [],
   "source": [
    "det_comm.head()"
   ]
  },
  {
   "cell_type": "markdown",
   "metadata": {},
   "source": [
    "## Le groupby\n",
    "\n",
    "<img src=\"https://raw.githubusercontent.com/rbizoi/Ecole-IA-Strasbourg/master/images/documents/M06-03.png\" width=\"400\">\n",
    "\n"
   ]
  },
  {
   "cell_type": "code",
   "execution_count": null,
   "metadata": {
    "ExecuteTime": {
     "start_time": "2021-11-26T10:49:31.398Z"
    }
   },
   "outputs": [],
   "source": [
    "%%sql  \n",
    "select annee, \n",
    "     trimestre, \n",
    "     mois, \n",
    "     sum(quantite) quantite_sum, \n",
    "     avg(quantite) quantite_avg, \n",
    "     sum(port) port_sum, \n",
    "     min(port) port_min, \n",
    "     max(port) port_max, \n",
    "     avg(port) port_avg \n",
    "from commandes co \n",
    "   join details_commandes dc\n",
    "      on co.no_commande = dc.no_commande \n",
    "group by annee,trimestre,mois \n",
    "order by annee,trimestre,mois"
   ]
  },
  {
   "cell_type": "code",
   "execution_count": null,
   "metadata": {
    "ExecuteTime": {
     "start_time": "2021-11-26T10:49:31.401Z"
    }
   },
   "outputs": [],
   "source": [
    "gb_dc = det_comm.groupby(['annee','trimestre','mois'])"
   ]
  },
  {
   "cell_type": "code",
   "execution_count": null,
   "metadata": {
    "ExecuteTime": {
     "start_time": "2021-11-26T10:49:31.403Z"
    }
   },
   "outputs": [],
   "source": [
    "gb_dc.agg({'quantite':['sum','mean'],'port':['sum','min','max','mean']}).head()"
   ]
  },
  {
   "cell_type": "code",
   "execution_count": null,
   "metadata": {
    "ExecuteTime": {
     "start_time": "2021-11-26T10:49:31.405Z"
    }
   },
   "outputs": [],
   "source": [
    "gb_dc.agg({'prix_unitaire':'std'}).head()"
   ]
  },
  {
   "cell_type": "markdown",
   "metadata": {},
   "source": [
    "## Assign"
   ]
  },
  {
   "cell_type": "code",
   "execution_count": null,
   "metadata": {
    "ExecuteTime": {
     "start_time": "2021-11-26T10:49:31.407Z"
    }
   },
   "outputs": [],
   "source": [
    "df_dc = det_comm.assign(\n",
    "                 ca_brut = det_comm.quantite*det_comm.prix_unitaire,\n",
    "                 remise  = det_comm.quantite*det_comm.prix_unitaire*det_comm.remise/100,\n",
    "                 ca_net  = det_comm.quantite*det_comm.prix_unitaire - \n",
    "                          (det_comm.quantite*det_comm.prix_unitaire*det_comm.remise/100)                \n",
    "                ).groupby(\n",
    "                          ['annee','trimestre','mois']\n",
    "                         ).agg(\n",
    "                               {'quantite':['sum','mean'],\n",
    "                                'port'    :['sum','min','max','mean'],\n",
    "                                'ca_brut' :['sum'],\n",
    "                                'remise'  :['sum'],\n",
    "                                'ca_net'  :['sum'],\n",
    "                                 })\n",
    "df_dc.head()"
   ]
  },
  {
   "cell_type": "code",
   "execution_count": null,
   "metadata": {
    "ExecuteTime": {
     "start_time": "2021-11-26T10:49:31.409Z"
    }
   },
   "outputs": [],
   "source": [
    "df_dc.columns = [col[0]+'_'+col[1] for col in df_dc.columns]\n",
    "df_dc.head()"
   ]
  },
  {
   "cell_type": "code",
   "execution_count": null,
   "metadata": {
    "ExecuteTime": {
     "start_time": "2021-11-26T10:49:31.411Z"
    }
   },
   "outputs": [],
   "source": [
    "df_dc.reset_index().head()"
   ]
  },
  {
   "cell_type": "markdown",
   "metadata": {},
   "source": [
    "# Les équijointures\n",
    "\n",
    "<img src=\"https://raw.githubusercontent.com/rbizoi/Ecole-IA-Strasbourg/master/images/documents/M06-07.png\" width=\"400\">\n"
   ]
  },
  {
   "cell_type": "code",
   "execution_count": null,
   "metadata": {
    "ExecuteTime": {
     "start_time": "2021-11-26T10:49:31.413Z"
    }
   },
   "outputs": [],
   "source": [
    "%%sql \n",
    "select count(*) from employes "
   ]
  },
  {
   "cell_type": "code",
   "execution_count": null,
   "metadata": {
    "ExecuteTime": {
     "start_time": "2021-11-26T10:49:31.415Z"
    }
   },
   "outputs": [],
   "source": [
    "%%sql \n",
    "select count(*) from commandes "
   ]
  },
  {
   "cell_type": "code",
   "execution_count": null,
   "metadata": {
    "ExecuteTime": {
     "start_time": "2021-11-26T10:49:31.417Z"
    }
   },
   "outputs": [],
   "source": [
    "%%sql \n",
    "select count(*) from clients"
   ]
  },
  {
   "cell_type": "code",
   "execution_count": null,
   "metadata": {
    "ExecuteTime": {
     "start_time": "2021-11-26T10:49:31.419Z"
    }
   },
   "outputs": [],
   "source": [
    "%%sql \n",
    "select count(*) \n",
    "     from employes em \n",
    "          inner join commandes co \n",
    "               on em.no_employe = co.no_employe \n",
    "          inner join clients cl \n",
    "               on cl.code_client = co.code_client"
   ]
  },
  {
   "cell_type": "code",
   "execution_count": null,
   "metadata": {
    "ExecuteTime": {
     "start_time": "2021-11-26T10:49:31.421Z"
    }
   },
   "outputs": [],
   "source": [
    "commandes = pd.read_sql_query(\"select * from commandes\",connection)\n",
    "employes  = pd.read_sql_query(\"select * from employes\",connection)\n",
    "clients  = pd.read_sql_query(\"select * from clients\",connection)"
   ]
  },
  {
   "cell_type": "code",
   "execution_count": null,
   "metadata": {
    "ExecuteTime": {
     "start_time": "2021-11-26T10:49:31.423Z"
    }
   },
   "outputs": [],
   "source": [
    "employes.merge(commandes, on='no_employe').merge(clients, on='code_client').shape"
   ]
  },
  {
   "cell_type": "code",
   "execution_count": null,
   "metadata": {
    "ExecuteTime": {
     "start_time": "2021-11-26T10:49:31.425Z"
    }
   },
   "outputs": [],
   "source": [
    "employes.merge(commandes, on='no_employe').merge(clients, on='code_client').head()"
   ]
  },
  {
   "cell_type": "markdown",
   "metadata": {},
   "source": [
    "# Les jointures externes \n",
    "\n",
    "<img src=\"https://raw.githubusercontent.com/rbizoi/Ecole-IA-Strasbourg/master/images/documents/M06-07.png\" width=\"400\">\n"
   ]
  },
  {
   "cell_type": "code",
   "execution_count": null,
   "metadata": {
    "ExecuteTime": {
     "start_time": "2021-11-26T10:49:31.427Z"
    }
   },
   "outputs": [],
   "source": [
    "%sql select count(*) from employes "
   ]
  },
  {
   "cell_type": "code",
   "execution_count": null,
   "metadata": {
    "ExecuteTime": {
     "start_time": "2021-11-26T10:49:31.429Z"
    }
   },
   "outputs": [],
   "source": [
    "%sql select count(distinct no_employe) from commandes "
   ]
  },
  {
   "cell_type": "code",
   "execution_count": null,
   "metadata": {
    "ExecuteTime": {
     "start_time": "2021-11-26T10:49:31.432Z"
    }
   },
   "outputs": [],
   "source": [
    "%%sql \n",
    "select count(*) lignes,\n",
    "     count(distinct em.no_employe) as emp_employes ,\n",
    "     count(distinct co.no_employe) as emp_commandes \n",
    "from employes em \n",
    "          left outer join commandes co \n",
    "               on em.no_employe = co.no_employe"
   ]
  },
  {
   "cell_type": "markdown",
   "metadata": {},
   "source": [
    "<img src=\"https://raw.githubusercontent.com/rbizoi/Ecole-IA-Strasbourg/master/images/documents/M06-08.png\" width=\"400\">"
   ]
  },
  {
   "cell_type": "code",
   "execution_count": null,
   "metadata": {
    "ExecuteTime": {
     "start_time": "2021-11-26T10:49:31.434Z"
    }
   },
   "outputs": [],
   "source": [
    "%%sql \n",
    "select em.no_employe,\n",
    "       sum(port) port\n",
    "from employes em \n",
    "  left outer join commandes co \n",
    "       on em.no_employe = co.no_employe \n",
    "group by em.no_employe \n",
    "order by port nulls first fetch next 25 rows only"
   ]
  },
  {
   "cell_type": "code",
   "execution_count": null,
   "metadata": {
    "ExecuteTime": {
     "start_time": "2021-11-26T10:49:31.436Z"
    }
   },
   "outputs": [],
   "source": [
    "%%sql \n",
    "select \n",
    "    count(*),\n",
    "    count(distinct em.no_employe),\n",
    "    count(distinct co.no_employe) \n",
    "from employes em \n",
    "  left outer join commandes co \n",
    "       on em.no_employe = co.no_employe \n",
    "where co.annee = 2010"
   ]
  },
  {
   "cell_type": "markdown",
   "metadata": {},
   "source": [
    "Toutefois la requête précédente ne retourne pas les employés qui n’ont pas passé de commande, car la condition ``annee = 2010`` impose également l’existence d’un enregistrement dans la table **COMMANDES**."
   ]
  },
  {
   "cell_type": "code",
   "execution_count": null,
   "metadata": {
    "ExecuteTime": {
     "start_time": "2021-11-26T10:49:31.438Z"
    }
   },
   "outputs": [],
   "source": [
    "%%sql \n",
    "select count(*),\n",
    "    count(distinct em.no_employe),\n",
    "    count(distinct co.no_employe) \n",
    "from employes em \n",
    "  left outer join commandes co \n",
    "       on em.no_employe = co.no_employe \n",
    "where coalesce(co.annee,2010) = 2010"
   ]
  },
  {
   "cell_type": "code",
   "execution_count": null,
   "metadata": {
    "ExecuteTime": {
     "start_time": "2021-11-26T10:49:31.440Z"
    }
   },
   "outputs": [],
   "source": [
    "%%sql \n",
    "select count(*),\n",
    "     count(distinct em.no_employe),\n",
    "     count(distinct co.no_employe) \n",
    "     from employes em \n",
    "          left outer join commandes co \n",
    "               on em.no_employe = co.no_employe \n",
    "          left join clients cl \n",
    "               on cl.code_client = co.code_client"
   ]
  },
  {
   "cell_type": "code",
   "execution_count": null,
   "metadata": {
    "ExecuteTime": {
     "start_time": "2021-11-26T10:49:31.442Z"
    }
   },
   "outputs": [],
   "source": [
    "commandes = pd.read_sql_query(\"select * from commandes\",connection)\n",
    "employes  = pd.read_sql_query(\"select * from employes\",connection).drop(columns=['pays','region'])\n",
    "clients  = pd.read_sql_query(\"select * from clients\",connection)"
   ]
  },
  {
   "cell_type": "code",
   "execution_count": null,
   "metadata": {
    "ExecuteTime": {
     "start_time": "2021-11-26T10:49:31.444Z"
    }
   },
   "outputs": [],
   "source": [
    "employes.set_index('no_employe').join(commandes.set_index('no_employe'),how='inner').shape"
   ]
  },
  {
   "cell_type": "code",
   "execution_count": null,
   "metadata": {
    "ExecuteTime": {
     "start_time": "2021-11-26T10:49:31.446Z"
    }
   },
   "outputs": [],
   "source": [
    "employes.set_index('no_employe').join(commandes.set_index('no_employe'),how='left').shape"
   ]
  },
  {
   "cell_type": "markdown",
   "metadata": {},
   "source": [
    "Avec join c'est un peut casse tête à mon avis "
   ]
  },
  {
   "cell_type": "code",
   "execution_count": null,
   "metadata": {
    "ExecuteTime": {
     "start_time": "2021-11-26T10:49:31.448Z"
    }
   },
   "outputs": [],
   "source": [
    "employes.set_index(\n",
    "                   'no_employe'\n",
    "                   ).join(\n",
    "                          commandes.set_index(\n",
    "                                              'no_employe'\n",
    "                                              ),\n",
    "                           how='left'\n",
    "                          ).reset_index().set_index(\n",
    "                                                    'code_client'\n",
    "                                                   ).join(\n",
    "                                                          clients.set_index(\n",
    "                                                                            'code_client'\n",
    "                                                                            ),\n",
    "                                                          how='left').shape"
   ]
  },
  {
   "cell_type": "code",
   "execution_count": null,
   "metadata": {
    "ExecuteTime": {
     "start_time": "2021-11-26T10:49:31.451Z"
    }
   },
   "outputs": [],
   "source": [
    "employes.merge(commandes,on='no_employe',how='left').merge(clients,on='code_client',how='left').shape"
   ]
  },
  {
   "cell_type": "code",
   "execution_count": null,
   "metadata": {},
   "outputs": [],
   "source": []
  },
  {
   "cell_type": "code",
   "execution_count": null,
   "metadata": {},
   "outputs": [],
   "source": []
  },
  {
   "cell_type": "code",
   "execution_count": null,
   "metadata": {},
   "outputs": [],
   "source": []
  },
  {
   "cell_type": "code",
   "execution_count": null,
   "metadata": {},
   "outputs": [],
   "source": []
  },
  {
   "cell_type": "code",
   "execution_count": null,
   "metadata": {},
   "outputs": [],
   "source": []
  },
  {
   "cell_type": "code",
   "execution_count": null,
   "metadata": {},
   "outputs": [],
   "source": []
  },
  {
   "cell_type": "code",
   "execution_count": null,
   "metadata": {},
   "outputs": [],
   "source": []
  },
  {
   "cell_type": "code",
   "execution_count": null,
   "metadata": {},
   "outputs": [],
   "source": []
  },
  {
   "cell_type": "code",
   "execution_count": null,
   "metadata": {},
   "outputs": [],
   "source": []
  },
  {
   "cell_type": "code",
   "execution_count": null,
   "metadata": {},
   "outputs": [],
   "source": []
  },
  {
   "cell_type": "code",
   "execution_count": null,
   "metadata": {},
   "outputs": [],
   "source": []
  },
  {
   "cell_type": "code",
   "execution_count": null,
   "metadata": {},
   "outputs": [],
   "source": []
  },
  {
   "cell_type": "code",
   "execution_count": null,
   "metadata": {},
   "outputs": [],
   "source": []
  },
  {
   "cell_type": "code",
   "execution_count": null,
   "metadata": {},
   "outputs": [],
   "source": []
  },
  {
   "cell_type": "code",
   "execution_count": null,
   "metadata": {},
   "outputs": [],
   "source": []
  },
  {
   "cell_type": "code",
   "execution_count": null,
   "metadata": {},
   "outputs": [],
   "source": []
  },
  {
   "cell_type": "code",
   "execution_count": null,
   "metadata": {},
   "outputs": [],
   "source": []
  },
  {
   "cell_type": "code",
   "execution_count": null,
   "metadata": {},
   "outputs": [],
   "source": []
  },
  {
   "cell_type": "code",
   "execution_count": null,
   "metadata": {},
   "outputs": [],
   "source": []
  },
  {
   "cell_type": "code",
   "execution_count": null,
   "metadata": {},
   "outputs": [],
   "source": []
  },
  {
   "cell_type": "code",
   "execution_count": null,
   "metadata": {},
   "outputs": [],
   "source": []
  },
  {
   "cell_type": "code",
   "execution_count": null,
   "metadata": {},
   "outputs": [],
   "source": []
  },
  {
   "cell_type": "code",
   "execution_count": null,
   "metadata": {},
   "outputs": [],
   "source": []
  },
  {
   "cell_type": "code",
   "execution_count": null,
   "metadata": {},
   "outputs": [],
   "source": []
  },
  {
   "cell_type": "code",
   "execution_count": null,
   "metadata": {},
   "outputs": [],
   "source": []
  },
  {
   "cell_type": "code",
   "execution_count": null,
   "metadata": {},
   "outputs": [],
   "source": []
  },
  {
   "cell_type": "code",
   "execution_count": null,
   "metadata": {},
   "outputs": [],
   "source": []
  },
  {
   "cell_type": "code",
   "execution_count": null,
   "metadata": {},
   "outputs": [],
   "source": []
  },
  {
   "cell_type": "code",
   "execution_count": null,
   "metadata": {},
   "outputs": [],
   "source": []
  },
  {
   "cell_type": "code",
   "execution_count": null,
   "metadata": {},
   "outputs": [],
   "source": []
  },
  {
   "cell_type": "code",
   "execution_count": null,
   "metadata": {},
   "outputs": [],
   "source": []
  },
  {
   "cell_type": "code",
   "execution_count": null,
   "metadata": {},
   "outputs": [],
   "source": []
  },
  {
   "cell_type": "code",
   "execution_count": null,
   "metadata": {},
   "outputs": [],
   "source": []
  },
  {
   "cell_type": "code",
   "execution_count": null,
   "metadata": {},
   "outputs": [],
   "source": []
  }
 ],
 "metadata": {
  "kernelspec": {
   "display_name": "Python 3",
   "language": "python",
   "name": "python3"
  },
  "language_info": {
   "codemirror_mode": {
    "name": "ipython",
    "version": 3
   },
   "file_extension": ".py",
   "mimetype": "text/x-python",
   "name": "python",
   "nbconvert_exporter": "python",
   "pygments_lexer": "ipython3",
   "version": "3.8.8"
  },
  "toc": {
   "base_numbering": 1,
   "nav_menu": {},
   "number_sections": true,
   "sideBar": true,
   "skip_h1_title": false,
   "title_cell": "Table of Contents",
   "title_sidebar": "Contents",
   "toc_cell": true,
   "toc_position": {
    "height": "calc(100% - 180px)",
    "left": "10px",
    "top": "150px",
    "width": "306px"
   },
   "toc_section_display": true,
   "toc_window_display": true
  }
 },
 "nbformat": 4,
 "nbformat_minor": 4
}
