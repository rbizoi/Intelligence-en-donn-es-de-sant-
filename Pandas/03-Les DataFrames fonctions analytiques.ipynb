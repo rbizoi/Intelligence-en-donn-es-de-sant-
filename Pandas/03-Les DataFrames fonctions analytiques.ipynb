{
 "cells": [
  {
   "cell_type": "markdown",
   "metadata": {
    "toc": true
   },
   "source": [
    "<h1>Table of Contents<span class=\"tocSkip\"></span></h1>\n",
    "<div class=\"toc\"><ul class=\"toc-item\"><li><span><a href=\"#Les-imports-et-initialisations-des-variables\" data-toc-modified-id=\"Les-imports-et-initialisations-des-variables-1\"><span class=\"toc-item-num\">1&nbsp;&nbsp;</span>Les imports et initialisations des variables</a></span></li><li><span><a href=\"#Les-fonctions-analytiques\" data-toc-modified-id=\"Les-fonctions-analytiques-2\"><span class=\"toc-item-num\">2&nbsp;&nbsp;</span>Les fonctions analytiques</a></span><ul class=\"toc-item\"><li><span><a href=\"#La-clause-partition-by\" data-toc-modified-id=\"La-clause-partition-by-2.1\"><span class=\"toc-item-num\">2.1&nbsp;&nbsp;</span>La clause partition by</a></span></li><li><span><a href=\"#La-clause-order-by\" data-toc-modified-id=\"La-clause-order-by-2.2\"><span class=\"toc-item-num\">2.2&nbsp;&nbsp;</span>La clause order by</a></span></li><li><span><a href=\"#Le-palmarès\" data-toc-modified-id=\"Le-palmarès-2.3\"><span class=\"toc-item-num\">2.3&nbsp;&nbsp;</span>Le palmarès</a></span></li><li><span><a href=\"#Le-palmarès-(dense_rank)\" data-toc-modified-id=\"Le-palmarès-(dense_rank)-2.4\"><span class=\"toc-item-num\">2.4&nbsp;&nbsp;</span>Le palmarès (dense_rank)</a></span></li><li><span><a href=\"#La-clause-de-fenêtrage\" data-toc-modified-id=\"La-clause-de-fenêtrage-2.5\"><span class=\"toc-item-num\">2.5&nbsp;&nbsp;</span>La clause de fenêtrage</a></span></li></ul></li></ul></div>"
   ]
  },
  {
   "cell_type": "markdown",
   "metadata": {},
   "source": [
    "# Les imports et initialisations des variables"
   ]
  },
  {
   "cell_type": "code",
   "execution_count": null,
   "metadata": {
    "ExecuteTime": {
     "end_time": "2021-11-26T11:02:04.035756Z",
     "start_time": "2021-11-26T11:02:04.015809Z"
    }
   },
   "outputs": [],
   "source": [
    "import pandas as pd \n",
    "import seaborn as sns\n",
    "import warnings \n",
    "import os\n",
    "import cx_Oracle\n",
    "import pickle\n",
    "import re\n",
    "import unicodedata\n",
    "\n",
    "from datetime import datetime\n",
    "warnings.filterwarnings(action=\"ignore\")\n",
    "\n",
    "%pylab inline\n",
    "%load_ext sql\n",
    "\n",
    "plt.style.use('seaborn-darkgrid')\n",
    "sns.set(font_scale=3)"
   ]
  },
  {
   "cell_type": "code",
   "execution_count": null,
   "metadata": {
    "ExecuteTime": {
     "end_time": "2021-11-26T11:02:06.602835Z",
     "start_time": "2021-11-26T11:02:05.784067Z"
    }
   },
   "outputs": [],
   "source": [
    "sys.path.append(os.path.abspath('../../.'))\n",
    "from dbconnect import utilisateur,connexion,password\n",
    "%sql oracle+cx_oracle://$utilisateur:$password@$connexion\n",
    "connection = cx_Oracle.connect(utilisateur, password, connexion)        "
   ]
  },
  {
   "cell_type": "markdown",
   "metadata": {},
   "source": [
    "# Les fonctions analytiques "
   ]
  },
  {
   "cell_type": "code",
   "execution_count": null,
   "metadata": {
    "ExecuteTime": {
     "end_time": "2021-11-26T11:02:14.405106Z",
     "start_time": "2021-11-26T11:02:14.319822Z"
    }
   },
   "outputs": [],
   "source": [
    "%sql select annee, trimestre, \\\n",
    "            sum(port) as port , \\\n",
    "            sum(sum(port)) over (partition by annee) st_a ,\\\n",
    "            sum(sum(port)) over (partition by trimestre) st_t ,\\\n",
    "            sum(sum(port)) over () st_p \\\n",
    "     from commandes \\\n",
    "     group by  annee, trimestre \\\n",
    "     order  by  annee, trimestre "
   ]
  },
  {
   "cell_type": "code",
   "execution_count": null,
   "metadata": {
    "ExecuteTime": {
     "end_time": "2021-11-26T11:02:17.440250Z",
     "start_time": "2021-11-26T11:02:15.224294Z"
    }
   },
   "outputs": [],
   "source": [
    "query = \"select * from commandes\"\n",
    "df = pd.read_sql_query(query, connection) #df.to_sql('nom', con=engine,if_exists='replace')\n",
    "df"
   ]
  },
  {
   "cell_type": "code",
   "execution_count": null,
   "metadata": {
    "ExecuteTime": {
     "end_time": "2021-11-26T11:02:17.472189Z",
     "start_time": "2021-11-26T11:02:17.457205Z"
    }
   },
   "outputs": [],
   "source": [
    "df.columns"
   ]
  },
  {
   "cell_type": "code",
   "execution_count": null,
   "metadata": {
    "ExecuteTime": {
     "end_time": "2021-11-26T11:02:20.704546Z",
     "start_time": "2021-11-26T11:02:20.679574Z"
    }
   },
   "outputs": [],
   "source": [
    "df1 = df.groupby(['annee','trimestre']).agg({'port':'sum'})"
   ]
  },
  {
   "cell_type": "code",
   "execution_count": null,
   "metadata": {
    "ExecuteTime": {
     "end_time": "2021-11-26T11:01:40.408084Z",
     "start_time": "2021-11-26T11:01:39.063Z"
    }
   },
   "outputs": [],
   "source": [
    "df1.head()"
   ]
  },
  {
   "cell_type": "code",
   "execution_count": null,
   "metadata": {
    "ExecuteTime": {
     "end_time": "2021-11-26T11:01:40.409081Z",
     "start_time": "2021-11-26T11:01:39.065Z"
    }
   },
   "outputs": [],
   "source": [
    "df.head()"
   ]
  },
  {
   "cell_type": "code",
   "execution_count": null,
   "metadata": {
    "ExecuteTime": {
     "end_time": "2021-11-26T11:01:40.410078Z",
     "start_time": "2021-11-26T11:01:39.066Z"
    }
   },
   "outputs": [],
   "source": [
    "df['st_a'] = df.groupby('annee').port.transform('sum')"
   ]
  },
  {
   "cell_type": "code",
   "execution_count": null,
   "metadata": {
    "ExecuteTime": {
     "end_time": "2021-11-26T11:01:40.411076Z",
     "start_time": "2021-11-26T11:01:39.068Z"
    }
   },
   "outputs": [],
   "source": [
    "df.head()"
   ]
  },
  {
   "cell_type": "code",
   "execution_count": null,
   "metadata": {
    "ExecuteTime": {
     "end_time": "2021-11-26T11:01:40.412074Z",
     "start_time": "2021-11-26T11:01:39.070Z"
    }
   },
   "outputs": [],
   "source": [
    "df1['st_a'] = df1.groupby('annee').port.transform('sum')\n",
    "df1['st_t'] = df1.groupby('trimestre').port.transform('sum')\n",
    "df1['st_p'] = df1.port.sum()"
   ]
  },
  {
   "cell_type": "code",
   "execution_count": null,
   "metadata": {
    "ExecuteTime": {
     "end_time": "2021-11-26T11:01:40.413072Z",
     "start_time": "2021-11-26T11:01:39.072Z"
    }
   },
   "outputs": [],
   "source": [
    "df1"
   ]
  },
  {
   "cell_type": "markdown",
   "metadata": {},
   "source": [
    "## La clause partition by"
   ]
  },
  {
   "cell_type": "code",
   "execution_count": null,
   "metadata": {
    "ExecuteTime": {
     "end_time": "2021-11-22T10:32:35.120603Z",
     "start_time": "2021-11-22T10:31:50.034109Z"
    }
   },
   "outputs": [],
   "source": [
    "query = \"\"\"\n",
    "SELECT\n",
    "    co.annee, \n",
    "    co.mois,\n",
    "    cl.pays,\n",
    "    cl.ville,\n",
    "    ca.nom_categorie,\n",
    "    pr.nom_produit,\n",
    "    sum(dc.prix_unitaire*dc.quantite) ca,\n",
    "    sum(dc.quantite) quantite,\n",
    "    sum(dc.remise) remise\n",
    "FROM\n",
    "    clients cl\n",
    "    JOIN commandes co ON cl.code_client = co.code_client\n",
    "    JOIN details_commandes dc ON co.no_commande = dc.no_commande\n",
    "    JOIN produits pr ON dc.ref_produit = pr.ref_produit\n",
    "    JOIN categories ca ON ca.code_categorie = pr.code_categorie\n",
    "group by co.annee, \n",
    "    co.mois,\n",
    "    ca.nom_categorie,\n",
    "    pr.nom_produit,\n",
    "    cl.pays,\n",
    "    cl.ville\n",
    "\"\"\"\n",
    "donnees = pd.read_sql_query(query, connection) #df.to_sql('nom', con=engine,if_exists='replace')\n",
    "donnees"
   ]
  },
  {
   "cell_type": "code",
   "execution_count": null,
   "metadata": {
    "ExecuteTime": {
     "end_time": "2021-11-22T10:32:35.136071Z",
     "start_time": "2021-11-22T10:32:35.122107Z"
    }
   },
   "outputs": [],
   "source": [
    "donnees.columns"
   ]
  },
  {
   "cell_type": "code",
   "execution_count": null,
   "metadata": {
    "ExecuteTime": {
     "end_time": "2021-11-22T10:32:35.230841Z",
     "start_time": "2021-11-22T10:32:35.138064Z"
    }
   },
   "outputs": [],
   "source": [
    "donnees['CA_a'] = donnees.groupby(['annee']).ca.transform('sum')\n",
    "donnees['CA_am'] = donnees.groupby(['annee','mois']).ca.transform('sum')\n",
    "donnees['CA_ap'] = donnees.groupby(['annee','pays']).ca.transform('sum')\n",
    "donnees['CA_ac'] = donnees.groupby(['annee','nom_categorie']).ca.transform('sum')\n",
    "donnees['CA_apc'] = donnees.groupby(['annee','pays','nom_categorie']).ca.transform('sum')"
   ]
  },
  {
   "cell_type": "code",
   "execution_count": null,
   "metadata": {
    "ExecuteTime": {
     "end_time": "2021-11-22T10:32:35.323405Z",
     "start_time": "2021-11-22T10:32:35.231839Z"
    }
   },
   "outputs": [],
   "source": [
    "donnees.sort_values(['annee','mois','pays','nom_categorie']).head(20)"
   ]
  },
  {
   "cell_type": "markdown",
   "metadata": {},
   "source": [
    "## La clause order by "
   ]
  },
  {
   "cell_type": "code",
   "execution_count": null,
   "metadata": {
    "ExecuteTime": {
     "end_time": "2021-11-22T10:32:35.370215Z",
     "start_time": "2021-11-22T10:32:35.325399Z"
    }
   },
   "outputs": [],
   "source": [
    "donnees01 = donnees.groupby(['annee','mois','pays','nom_categorie']).agg({'ca':'sum'})"
   ]
  },
  {
   "cell_type": "code",
   "execution_count": null,
   "metadata": {
    "ExecuteTime": {
     "end_time": "2021-11-22T10:32:35.417094Z",
     "start_time": "2021-11-22T10:32:35.371216Z"
    }
   },
   "outputs": [],
   "source": [
    "donnees01['CA_ca']   = donnees01.sort_values(['annee','mois','pays','nom_categorie','ca']).groupby(['annee']).ca.transform('cumsum')\n",
    "donnees01['CA_cam']  = donnees01.sort_values(['annee','mois','pays','nom_categorie','ca']).groupby(['annee','mois']).ca.transform('cumsum')\n",
    "donnees01['CA_cap']  = donnees01.sort_values(['annee','mois','pays','nom_categorie','ca']).groupby(['annee','pays']).ca.transform('cumsum')\n",
    "donnees01['CA_cac']  = donnees01.sort_values(['annee','mois','pays','nom_categorie','ca']).groupby(['annee','nom_categorie']).ca.transform('cumsum')\n",
    "donnees01['CA_capc'] = donnees01.sort_values(['annee','mois','pays','nom_categorie','ca']).groupby(['annee','pays','nom_categorie']).ca.transform('cumsum')"
   ]
  },
  {
   "cell_type": "code",
   "execution_count": null,
   "metadata": {
    "ExecuteTime": {
     "end_time": "2021-11-22T10:32:35.448039Z",
     "start_time": "2021-11-22T10:32:35.418091Z"
    }
   },
   "outputs": [],
   "source": [
    "donnees01.sort_values(['annee','mois','pays','nom_categorie','ca']).head(50)"
   ]
  },
  {
   "cell_type": "markdown",
   "metadata": {},
   "source": [
    "## Le palmarès"
   ]
  },
  {
   "cell_type": "code",
   "execution_count": null,
   "metadata": {
    "ExecuteTime": {
     "end_time": "2021-11-22T10:32:35.463992Z",
     "start_time": "2021-11-22T10:32:35.449009Z"
    }
   },
   "outputs": [],
   "source": [
    "donnees01 = donnees.groupby(['annee','mois']).agg({'ca':'sum'})"
   ]
  },
  {
   "cell_type": "code",
   "execution_count": null,
   "metadata": {
    "ExecuteTime": {
     "end_time": "2021-11-22T10:32:35.479954Z",
     "start_time": "2021-11-22T10:32:35.464966Z"
    }
   },
   "outputs": [],
   "source": [
    "donnees01.head()"
   ]
  },
  {
   "cell_type": "code",
   "execution_count": null,
   "metadata": {
    "ExecuteTime": {
     "end_time": "2021-11-22T10:32:35.511869Z",
     "start_time": "2021-11-22T10:32:35.480954Z"
    }
   },
   "outputs": [],
   "source": [
    "donnees01['CA_a']        = donnees01.groupby(['annee']).ca.transform('sum')\n",
    "donnees01['palmares_A']  = donnees01.groupby(['annee']).ca.rank(method='dense')\n",
    "donnees01['palmares']    = donnees01.ca.rank(method='dense')"
   ]
  },
  {
   "cell_type": "code",
   "execution_count": null,
   "metadata": {
    "ExecuteTime": {
     "end_time": "2021-11-22T10:32:35.542685Z",
     "start_time": "2021-11-22T10:32:35.512839Z"
    }
   },
   "outputs": [],
   "source": [
    "donnees01.head()"
   ]
  },
  {
   "cell_type": "code",
   "execution_count": null,
   "metadata": {
    "ExecuteTime": {
     "end_time": "2021-11-22T10:32:35.574598Z",
     "start_time": "2021-11-22T10:32:35.544679Z"
    }
   },
   "outputs": [],
   "source": [
    "donnees01.sort_values(['annee','palmares_A']).head(10)"
   ]
  },
  {
   "cell_type": "code",
   "execution_count": null,
   "metadata": {
    "ExecuteTime": {
     "end_time": "2021-11-22T10:32:35.590588Z",
     "start_time": "2021-11-22T10:32:35.576593Z"
    }
   },
   "outputs": [],
   "source": [
    "donnees01.sort_values(['palmares_A']).head(10)"
   ]
  },
  {
   "cell_type": "code",
   "execution_count": null,
   "metadata": {
    "ExecuteTime": {
     "end_time": "2021-11-22T10:32:35.622471Z",
     "start_time": "2021-11-22T10:32:35.592551Z"
    }
   },
   "outputs": [],
   "source": [
    "donnees01.sort_values(['palmares']).head(20)"
   ]
  },
  {
   "cell_type": "code",
   "execution_count": null,
   "metadata": {
    "ExecuteTime": {
     "end_time": "2021-11-22T10:32:35.685302Z",
     "start_time": "2021-11-22T10:32:35.626460Z"
    }
   },
   "outputs": [],
   "source": [
    "donnees01 = donnees.groupby(['pays','annee','mois']).agg({'ca':'sum'})\n",
    "donnees01.head(20)"
   ]
  },
  {
   "cell_type": "code",
   "execution_count": null,
   "metadata": {
    "ExecuteTime": {
     "end_time": "2021-11-22T10:32:35.701259Z",
     "start_time": "2021-11-22T10:32:35.687297Z"
    }
   },
   "outputs": [],
   "source": [
    "donnees01['CA_a']         = donnees01.groupby(['annee']).ca.transform('sum')\n",
    "donnees01['palmares_A']  = donnees01.groupby(['annee']).ca.rank(method='dense')\n",
    "donnees01['CA_p']         = donnees01.groupby(['pays']).ca.transform('sum')\n",
    "donnees01['palmares_P']  = donnees01.groupby(['pays']).ca.rank(method='dense')\n",
    "donnees01['palmares']  = donnees01.ca.rank(method='dense')"
   ]
  },
  {
   "cell_type": "code",
   "execution_count": null,
   "metadata": {
    "ExecuteTime": {
     "end_time": "2021-11-22T10:32:35.745979Z",
     "start_time": "2021-11-22T10:32:35.704254Z"
    }
   },
   "outputs": [],
   "source": [
    "donnees01.sort_values(['annee','palmares_A']).head(10)"
   ]
  },
  {
   "cell_type": "code",
   "execution_count": null,
   "metadata": {
    "ExecuteTime": {
     "end_time": "2021-11-22T10:32:35.760939Z",
     "start_time": "2021-11-22T10:32:35.746976Z"
    }
   },
   "outputs": [],
   "source": [
    "donnees01.sort_values(['palmares_A']).head(10)"
   ]
  },
  {
   "cell_type": "code",
   "execution_count": null,
   "metadata": {
    "ExecuteTime": {
     "end_time": "2021-11-22T10:32:35.791856Z",
     "start_time": "2021-11-22T10:32:35.761937Z"
    }
   },
   "outputs": [],
   "source": [
    "donnees01.sort_values(['pays','palmares_P']).head(10)"
   ]
  },
  {
   "cell_type": "code",
   "execution_count": null,
   "metadata": {
    "ExecuteTime": {
     "end_time": "2021-11-22T10:32:35.823770Z",
     "start_time": "2021-11-22T10:32:35.793851Z"
    }
   },
   "outputs": [],
   "source": [
    "donnees01.sort_values(['palmares_P']).head(25)"
   ]
  },
  {
   "cell_type": "code",
   "execution_count": null,
   "metadata": {
    "ExecuteTime": {
     "end_time": "2021-11-22T10:32:35.855686Z",
     "start_time": "2021-11-22T10:32:35.825765Z"
    }
   },
   "outputs": [],
   "source": [
    "donnees01.sort_values(['palmares']).head(25)"
   ]
  },
  {
   "cell_type": "markdown",
   "metadata": {},
   "source": [
    "## Le palmarès (dense_rank)"
   ]
  },
  {
   "cell_type": "code",
   "execution_count": null,
   "metadata": {
    "ExecuteTime": {
     "end_time": "2021-11-22T10:32:35.918864Z",
     "start_time": "2021-11-22T10:32:35.856683Z"
    }
   },
   "outputs": [],
   "source": [
    "query = \"\"\"\n",
    "SELECT\n",
    "    NOM_PRODUIT, NO_FOURNISSEUR NF, UNITES_STOCK US\n",
    "FROM PRODUITS \n",
    "WHERE CODE_CATEGORIE = 1\n",
    "\"\"\"\n",
    "donnees01 = pd.read_sql_query(query, connection) #df.to_sql('nom', con=engine,if_exists='replace')\n",
    "donnees01"
   ]
  },
  {
   "cell_type": "code",
   "execution_count": null,
   "metadata": {
    "ExecuteTime": {
     "end_time": "2021-11-22T10:32:35.934947Z",
     "start_time": "2021-11-22T10:32:35.919862Z"
    }
   },
   "outputs": [],
   "source": [
    "donnees01['RN']  = donnees01.us.rank(method='first')\n",
    "donnees01['DR']  = donnees01.us.rank(method='dense')\n",
    "donnees01['AR']  = donnees01.us.rank()\n",
    "donnees01['NT']  = (donnees01.us.rank(pct=True)*100).round()"
   ]
  },
  {
   "cell_type": "code",
   "execution_count": null,
   "metadata": {
    "ExecuteTime": {
     "end_time": "2021-11-22T10:32:35.966736Z",
     "start_time": "2021-11-22T10:32:35.936817Z"
    }
   },
   "outputs": [],
   "source": [
    "donnees01.sort_values('us')"
   ]
  },
  {
   "cell_type": "markdown",
   "metadata": {
    "ExecuteTime": {
     "end_time": "2020-10-22T18:28:37.771448Z",
     "start_time": "2020-10-22T18:28:37.768456Z"
    }
   },
   "source": [
    "## La clause de fenêtrage"
   ]
  },
  {
   "cell_type": "code",
   "execution_count": null,
   "metadata": {
    "ExecuteTime": {
     "end_time": "2021-11-22T10:32:35.998963Z",
     "start_time": "2021-11-22T10:32:35.967734Z"
    }
   },
   "outputs": [],
   "source": [
    "donnees02 = donnees.groupby(['pays','annee','mois']).agg({'ca':'sum'})"
   ]
  },
  {
   "cell_type": "code",
   "execution_count": null,
   "metadata": {
    "ExecuteTime": {
     "end_time": "2021-11-22T10:32:36.014796Z",
     "start_time": "2021-11-22T10:32:35.999836Z"
    }
   },
   "outputs": [],
   "source": [
    "donnees02.head()"
   ]
  },
  {
   "cell_type": "code",
   "execution_count": null,
   "metadata": {
    "ExecuteTime": {
     "end_time": "2021-11-22T10:32:36.045814Z",
     "start_time": "2021-11-22T10:32:36.015793Z"
    }
   },
   "outputs": [],
   "source": [
    "donnees02['R3l'] = donnees02.ca.rolling(3).sum()\n",
    "donnees02['R3lC'] = donnees02.ca.rolling(3,center=True).sum()\n",
    "donnees02['E3l'] = donnees02.ca.expanding().sum()"
   ]
  },
  {
   "cell_type": "code",
   "execution_count": null,
   "metadata": {
    "ExecuteTime": {
     "end_time": "2021-11-22T10:32:36.061670Z",
     "start_time": "2021-11-22T10:32:36.046686Z"
    }
   },
   "outputs": [],
   "source": [
    "donnees02.head(20)"
   ]
  }
 ],
 "metadata": {
  "kernelspec": {
   "display_name": "Python 3",
   "language": "python",
   "name": "python3"
  },
  "language_info": {
   "codemirror_mode": {
    "name": "ipython",
    "version": 3
   },
   "file_extension": ".py",
   "mimetype": "text/x-python",
   "name": "python",
   "nbconvert_exporter": "python",
   "pygments_lexer": "ipython3",
   "version": "3.8.8"
  },
  "toc": {
   "base_numbering": 1,
   "nav_menu": {
    "height": "192.133px",
    "width": "731.133px"
   },
   "number_sections": true,
   "sideBar": true,
   "skip_h1_title": false,
   "title_cell": "Table of Contents",
   "title_sidebar": "Contents",
   "toc_cell": true,
   "toc_position": {
    "height": "calc(100% - 180px)",
    "left": "10px",
    "top": "150px",
    "width": "252.933px"
   },
   "toc_section_display": true,
   "toc_window_display": true
  }
 },
 "nbformat": 4,
 "nbformat_minor": 4
}
